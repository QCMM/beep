{
 "cells": [
  {
   "cell_type": "markdown",
   "metadata": {},
   "source": [
    "# The BindingParadise Class \n",
    "\n",
    "The binding paradise class was written with the goal of providing \n",
    "an easy to use interface between the BEEP database and the user. I this tutorial\n",
    "I will explain the different methods contain in the class and how to access the \n",
    "different data contained in the database. Even though this class is \n",
    "a straightforward gateway to the database, the user can also use any QCPortal \n",
    "method to access the data in the database. \n",
    "\n",
    "The first thing we will do is to create a BindingParadies object which we will call\n",
    "`bp`. The only thing the user needs to provide is a username and password. "
   ]
  },
  {
   "cell_type": "code",
   "execution_count": 12,
   "metadata": {},
   "outputs": [],
   "source": [
    "from beep.beep import BindingParadise \n",
    "\n",
    "bp = BindingParadise('guest','pOg_41tzuDxkTtAfjPuUq8WK5ssbnmN8QfjsApGXVYk')"
   ]
  },
  {
   "cell_type": "markdown",
   "metadata": {},
   "source": [
    "Next we will list all the molecules that have been included in the database thus far using the `molecule_list()` method"
   ]
  },
  {
   "cell_type": "code",
   "execution_count": 13,
   "metadata": {},
   "outputs": [
    {
     "data": {
      "text/plain": [
       "['ch2o2_W22',\n",
       " 'ch3_W22',\n",
       " 'ch3o_W22',\n",
       " 'ch3oh_W22',\n",
       " 'ch4_W22',\n",
       " 'co_W12',\n",
       " 'co_W22',\n",
       " 'h2_W22',\n",
       " 'h2co_W12',\n",
       " 'h2co_W22',\n",
       " 'h2o_W22',\n",
       " 'h2s_W22',\n",
       " 'hcl_W22',\n",
       " 'hcn_W22',\n",
       " 'hco_W22',\n",
       " 'hf_W12',\n",
       " 'hf_W22',\n",
       " 'n2_W22',\n",
       " 'nh2_W22',\n",
       " 'nh3_W12',\n",
       " 'nh3_W22',\n",
       " 'nh3_W37',\n",
       " 'nh3_W60',\n",
       " 'nhch2_W22']"
      ]
     },
     "execution_count": 13,
     "metadata": {},
     "output_type": "execute_result"
    }
   ],
   "source": [
    "bp.molecules_list()"
   ]
  },
  {
   "cell_type": "markdown",
   "metadata": {},
   "source": [
    "As you can see all molecules contain the target molecule and the ice model on which the binding energies were computed for example W22, means they were computed on an a set of amorphous solid water cluster containing 22 molecules each. \n",
    "\n",
    "In this tuturial we will be interested in exploring the binding energies and binding sites of amonia (NH3). Therfore we set the molecule with the `set_molecule` method. "
   ]
  },
  {
   "cell_type": "code",
   "execution_count": 14,
   "metadata": {},
   "outputs": [
    {
     "name": "stdout",
     "output_type": "stream",
     "text": [
      "Molecule set: CH3OH_W22\n"
     ]
    }
   ],
   "source": [
    "bp.set_molecule('ch3oh_W22');"
   ]
  },
  {
   "cell_type": "markdown",
   "metadata": {},
   "source": [
    "Now that a molecule has been asigned to the `bp` object we can retrive the different optimization methods of the binding sites."
   ]
  },
  {
   "cell_type": "code",
   "execution_count": 15,
   "metadata": {},
   "outputs": [
    {
     "name": "stdout",
     "output_type": "stream",
     "text": [
      "List of optimization methods: ['PWB6K-D3BJ', 'HF3C']\n"
     ]
    }
   ],
   "source": [
    "bp.get_optimization_methods();"
   ]
  },
  {
   "cell_type": "markdown",
   "metadata": {},
   "source": [
    "Wow! three methods! Let's load the data of one of those three methods"
   ]
  },
  {
   "cell_type": "code",
   "execution_count": 16,
   "metadata": {},
   "outputs": [
    {
     "name": "stderr",
     "output_type": "stream",
     "text": [
      "100%|██████████| 19/19 [00:00<00:00, 40.84it/s]\n"
     ]
    }
   ],
   "source": [
    "bp.load_data(\"PWB6K-D3BJ\")"
   ]
  },
  {
   "cell_type": "markdown",
   "metadata": {},
   "source": [
    "Once we have the optimization method, we must list the levels of theory of the binding energy computations for these geomtries. "
   ]
  },
  {
   "cell_type": "code",
   "execution_count": 17,
   "metadata": {},
   "outputs": [
    {
     "name": "stdout",
     "output_type": "stream",
     "text": [
      "The available binding energy methods for PWB6K-D3BJ geometries are : ['tpssh-d3bj', 'tpssh', 'wpbe-d3bj', 'wpbe', 'pwb6k-d3bj', 'pwb6k']\n"
     ]
    }
   ],
   "source": [
    "bp.get_methods();"
   ]
  },
  {
   "cell_type": "markdown",
   "metadata": {},
   "source": [
    "We are finally ready to retrive the  binding energies!"
   ]
  },
  {
   "cell_type": "code",
   "execution_count": 18,
   "metadata": {},
   "outputs": [
    {
     "name": "stderr",
     "output_type": "stream",
     "text": [
      "100%|██████████| 10/10 [00:03<00:00,  2.62it/s]\n"
     ]
    }
   ],
   "source": [
    "df_be = bp.get_values('tpssh-d3bj', zpve=True)"
   ]
  },
  {
   "cell_type": "markdown",
   "metadata": {},
   "source": [
    "Notice that the return object is a pandas dataframe and that the user can select if the values should be corrected for zero-point vibrational energy or not. Let's check out the resulting dataframe with the binding energies! The nomenclature of the entries is as follows: First the molecule name (e.g. NH3), than the ASW model (W22), the number of the cluster and finally the number of the binding site on the specific cluster.  "
   ]
  },
  {
   "cell_type": "code",
   "execution_count": 19,
   "metadata": {},
   "outputs": [
    {
     "data": {
      "text/html": [
       "<div>\n",
       "<style scoped>\n",
       "    .dataframe tbody tr th:only-of-type {\n",
       "        vertical-align: middle;\n",
       "    }\n",
       "\n",
       "    .dataframe tbody tr th {\n",
       "        vertical-align: top;\n",
       "    }\n",
       "\n",
       "    .dataframe thead th {\n",
       "        text-align: right;\n",
       "    }\n",
       "</style>\n",
       "<table border=\"1\" class=\"dataframe\">\n",
       "  <thead>\n",
       "    <tr style=\"text-align: right;\">\n",
       "      <th></th>\n",
       "      <th>TPSSH-D3BJ/def2-tzvp</th>\n",
       "      <th>TPSSH-D3BJ + ZPVE</th>\n",
       "    </tr>\n",
       "  </thead>\n",
       "  <tbody>\n",
       "    <tr>\n",
       "      <th>ch3oh_W22_01_0001</th>\n",
       "      <td>-8.7963</td>\n",
       "      <td>-7.02989</td>\n",
       "    </tr>\n",
       "    <tr>\n",
       "      <th>ch3oh_W22_01_0002</th>\n",
       "      <td>-7.94529</td>\n",
       "      <td>-6.3333</td>\n",
       "    </tr>\n",
       "    <tr>\n",
       "      <th>ch3oh_W22_01_0003</th>\n",
       "      <td>-8.50918</td>\n",
       "      <td>-6.79487</td>\n",
       "    </tr>\n",
       "    <tr>\n",
       "      <th>ch3oh_W22_01_0005</th>\n",
       "      <td>-7.35282</td>\n",
       "      <td>-5.84833</td>\n",
       "    </tr>\n",
       "    <tr>\n",
       "      <th>ch3oh_W22_01_0006</th>\n",
       "      <td>-5.1027</td>\n",
       "      <td>-4.00649</td>\n",
       "    </tr>\n",
       "    <tr>\n",
       "      <th>...</th>\n",
       "      <td>...</td>\n",
       "      <td>...</td>\n",
       "    </tr>\n",
       "    <tr>\n",
       "      <th>ch3oh_W22_12_0024</th>\n",
       "      <td>-8.92082</td>\n",
       "      <td>-7.13182</td>\n",
       "    </tr>\n",
       "    <tr>\n",
       "      <th>ch3oh_W22_12_0026</th>\n",
       "      <td>-7.35545</td>\n",
       "      <td>-5.85048</td>\n",
       "    </tr>\n",
       "    <tr>\n",
       "      <th>ch3oh_W22_12_0027</th>\n",
       "      <td>-7.53145</td>\n",
       "      <td>-5.99455</td>\n",
       "    </tr>\n",
       "    <tr>\n",
       "      <th>ch3oh_W22_12_0028</th>\n",
       "      <td>-7.02799</td>\n",
       "      <td>-5.58243</td>\n",
       "    </tr>\n",
       "    <tr>\n",
       "      <th>ch3oh_W22_12_0030</th>\n",
       "      <td>-9.94329</td>\n",
       "      <td>-7.96877</td>\n",
       "    </tr>\n",
       "  </tbody>\n",
       "</table>\n",
       "<p>232 rows × 2 columns</p>\n",
       "</div>"
      ],
      "text/plain": [
       "                  TPSSH-D3BJ/def2-tzvp TPSSH-D3BJ + ZPVE\n",
       "ch3oh_W22_01_0001              -8.7963          -7.02989\n",
       "ch3oh_W22_01_0002             -7.94529           -6.3333\n",
       "ch3oh_W22_01_0003             -8.50918          -6.79487\n",
       "ch3oh_W22_01_0005             -7.35282          -5.84833\n",
       "ch3oh_W22_01_0006              -5.1027          -4.00649\n",
       "...                                ...               ...\n",
       "ch3oh_W22_12_0024             -8.92082          -7.13182\n",
       "ch3oh_W22_12_0026             -7.35545          -5.85048\n",
       "ch3oh_W22_12_0027             -7.53145          -5.99455\n",
       "ch3oh_W22_12_0028             -7.02799          -5.58243\n",
       "ch3oh_W22_12_0030             -9.94329          -7.96877\n",
       "\n",
       "[232 rows x 2 columns]"
      ]
     },
     "execution_count": 19,
     "metadata": {},
     "output_type": "execute_result"
    }
   ],
   "source": [
    "df_be"
   ]
  },
  {
   "cell_type": "markdown",
   "metadata": {},
   "source": [
    "Finally we can also access the xyz coordinates of all the different binding sites (up to 250 per species!) to do this we call the `get_molecules` methods which saves the molecule objects in a Pandas dataframe."
   ]
  },
  {
   "cell_type": "code",
   "execution_count": 20,
   "metadata": {},
   "outputs": [
    {
     "name": "stderr",
     "output_type": "stream",
     "text": [
      "100%|██████████| 10/10 [00:02<00:00,  4.34it/s]\n"
     ]
    }
   ],
   "source": [
    "df_mol = bp.get_molecules(be_method='tpssh-d3bj')"
   ]
  },
  {
   "cell_type": "code",
   "execution_count": 21,
   "metadata": {},
   "outputs": [
    {
     "data": {
      "text/html": [
       "<div>\n",
       "<style scoped>\n",
       "    .dataframe tbody tr th:only-of-type {\n",
       "        vertical-align: middle;\n",
       "    }\n",
       "\n",
       "    .dataframe tbody tr th {\n",
       "        vertical-align: top;\n",
       "    }\n",
       "\n",
       "    .dataframe thead th {\n",
       "        text-align: right;\n",
       "    }\n",
       "</style>\n",
       "<table border=\"1\" class=\"dataframe\">\n",
       "  <thead>\n",
       "    <tr style=\"text-align: right;\">\n",
       "      <th></th>\n",
       "      <th>TPSSH-D3BJ/def2-tzvp</th>\n",
       "      <th>molecule</th>\n",
       "    </tr>\n",
       "  </thead>\n",
       "  <tbody>\n",
       "    <tr>\n",
       "      <th>ch3oh_W22_01_0001</th>\n",
       "      <td>-8.7963</td>\n",
       "      <td>Molecule(name='CH48O23', formula='CH48O23', ha...</td>\n",
       "    </tr>\n",
       "    <tr>\n",
       "      <th>ch3oh_W22_01_0002</th>\n",
       "      <td>-7.94529</td>\n",
       "      <td>Molecule(name='CH48O23', formula='CH48O23', ha...</td>\n",
       "    </tr>\n",
       "    <tr>\n",
       "      <th>ch3oh_W22_01_0003</th>\n",
       "      <td>-8.50918</td>\n",
       "      <td>Molecule(name='CH48O23', formula='CH48O23', ha...</td>\n",
       "    </tr>\n",
       "    <tr>\n",
       "      <th>ch3oh_W22_01_0005</th>\n",
       "      <td>-7.35282</td>\n",
       "      <td>Molecule(name='CH48O23', formula='CH48O23', ha...</td>\n",
       "    </tr>\n",
       "    <tr>\n",
       "      <th>ch3oh_W22_01_0006</th>\n",
       "      <td>-5.1027</td>\n",
       "      <td>Molecule(name='CH48O23', formula='CH48O23', ha...</td>\n",
       "    </tr>\n",
       "    <tr>\n",
       "      <th>...</th>\n",
       "      <td>...</td>\n",
       "      <td>...</td>\n",
       "    </tr>\n",
       "    <tr>\n",
       "      <th>ch3oh_W22_12_0023</th>\n",
       "      <td>-4.0841</td>\n",
       "      <td>Molecule(name='CH48O23', formula='CH48O23', ha...</td>\n",
       "    </tr>\n",
       "    <tr>\n",
       "      <th>ch3oh_W22_12_0024</th>\n",
       "      <td>-8.92082</td>\n",
       "      <td>Molecule(name='CH48O23', formula='CH48O23', ha...</td>\n",
       "    </tr>\n",
       "    <tr>\n",
       "      <th>ch3oh_W22_12_0026</th>\n",
       "      <td>-7.35545</td>\n",
       "      <td>Molecule(name='CH48O23', formula='CH48O23', ha...</td>\n",
       "    </tr>\n",
       "    <tr>\n",
       "      <th>ch3oh_W22_12_0027</th>\n",
       "      <td>-7.53145</td>\n",
       "      <td>Molecule(name='CH48O23', formula='CH48O23', ha...</td>\n",
       "    </tr>\n",
       "    <tr>\n",
       "      <th>ch3oh_W22_12_0028</th>\n",
       "      <td>-7.02799</td>\n",
       "      <td>Molecule(name='CH48O23', formula='CH48O23', ha...</td>\n",
       "    </tr>\n",
       "  </tbody>\n",
       "</table>\n",
       "<p>231 rows × 2 columns</p>\n",
       "</div>"
      ],
      "text/plain": [
       "                  TPSSH-D3BJ/def2-tzvp  \\\n",
       "ch3oh_W22_01_0001              -8.7963   \n",
       "ch3oh_W22_01_0002             -7.94529   \n",
       "ch3oh_W22_01_0003             -8.50918   \n",
       "ch3oh_W22_01_0005             -7.35282   \n",
       "ch3oh_W22_01_0006              -5.1027   \n",
       "...                                ...   \n",
       "ch3oh_W22_12_0023              -4.0841   \n",
       "ch3oh_W22_12_0024             -8.92082   \n",
       "ch3oh_W22_12_0026             -7.35545   \n",
       "ch3oh_W22_12_0027             -7.53145   \n",
       "ch3oh_W22_12_0028             -7.02799   \n",
       "\n",
       "                                                            molecule  \n",
       "ch3oh_W22_01_0001  Molecule(name='CH48O23', formula='CH48O23', ha...  \n",
       "ch3oh_W22_01_0002  Molecule(name='CH48O23', formula='CH48O23', ha...  \n",
       "ch3oh_W22_01_0003  Molecule(name='CH48O23', formula='CH48O23', ha...  \n",
       "ch3oh_W22_01_0005  Molecule(name='CH48O23', formula='CH48O23', ha...  \n",
       "ch3oh_W22_01_0006  Molecule(name='CH48O23', formula='CH48O23', ha...  \n",
       "...                                                              ...  \n",
       "ch3oh_W22_12_0023  Molecule(name='CH48O23', formula='CH48O23', ha...  \n",
       "ch3oh_W22_12_0024  Molecule(name='CH48O23', formula='CH48O23', ha...  \n",
       "ch3oh_W22_12_0026  Molecule(name='CH48O23', formula='CH48O23', ha...  \n",
       "ch3oh_W22_12_0027  Molecule(name='CH48O23', formula='CH48O23', ha...  \n",
       "ch3oh_W22_12_0028  Molecule(name='CH48O23', formula='CH48O23', ha...  \n",
       "\n",
       "[231 rows x 2 columns]"
      ]
     },
     "execution_count": 21,
     "metadata": {},
     "output_type": "execute_result"
    }
   ],
   "source": [
    "df_mol"
   ]
  },
  {
   "cell_type": "markdown",
   "metadata": {},
   "source": [
    "Finally form this dataframe we can use Pandas to filter specific molecules. For example if we want the coordinates of the binding sites that have a binding energy over 10 kcal/mol, we can filter those out:"
   ]
  },
  {
   "cell_type": "code",
   "execution_count": 26,
   "metadata": {},
   "outputs": [
    {
     "data": {
      "text/html": [
       "<div>\n",
       "<style scoped>\n",
       "    .dataframe tbody tr th:only-of-type {\n",
       "        vertical-align: middle;\n",
       "    }\n",
       "\n",
       "    .dataframe tbody tr th {\n",
       "        vertical-align: top;\n",
       "    }\n",
       "\n",
       "    .dataframe thead th {\n",
       "        text-align: right;\n",
       "    }\n",
       "</style>\n",
       "<table border=\"1\" class=\"dataframe\">\n",
       "  <thead>\n",
       "    <tr style=\"text-align: right;\">\n",
       "      <th></th>\n",
       "      <th>TPSSH-D3BJ/def2-tzvp</th>\n",
       "      <th>molecule</th>\n",
       "    </tr>\n",
       "  </thead>\n",
       "  <tbody>\n",
       "    <tr>\n",
       "      <th>ch3oh_W22_03_0036</th>\n",
       "      <td>-12.0508</td>\n",
       "      <td>Molecule(name='CH48O23', formula='CH48O23', ha...</td>\n",
       "    </tr>\n",
       "    <tr>\n",
       "      <th>ch3oh_W22_04_0021</th>\n",
       "      <td>-12.6029</td>\n",
       "      <td>Molecule(name='CH48O23', formula='CH48O23', ha...</td>\n",
       "    </tr>\n",
       "    <tr>\n",
       "      <th>ch3oh_W22_04_0027</th>\n",
       "      <td>-13.2289</td>\n",
       "      <td>Molecule(name='CH48O23', formula='CH48O23', ha...</td>\n",
       "    </tr>\n",
       "    <tr>\n",
       "      <th>ch3oh_W22_04_0033</th>\n",
       "      <td>-12.3037</td>\n",
       "      <td>Molecule(name='CH48O23', formula='CH48O23', ha...</td>\n",
       "    </tr>\n",
       "    <tr>\n",
       "      <th>ch3oh_W22_05_0014</th>\n",
       "      <td>-12.5846</td>\n",
       "      <td>Molecule(name='CH48O23', formula='CH48O23', ha...</td>\n",
       "    </tr>\n",
       "    <tr>\n",
       "      <th>ch3oh_W22_05_0025</th>\n",
       "      <td>-12.5008</td>\n",
       "      <td>Molecule(name='CH48O23', formula='CH48O23', ha...</td>\n",
       "    </tr>\n",
       "    <tr>\n",
       "      <th>ch3oh_W22_05_0027</th>\n",
       "      <td>-12.6998</td>\n",
       "      <td>Molecule(name='CH48O23', formula='CH48O23', ha...</td>\n",
       "    </tr>\n",
       "    <tr>\n",
       "      <th>ch3oh_W22_06_0027</th>\n",
       "      <td>-12.382</td>\n",
       "      <td>Molecule(name='CH48O23', formula='CH48O23', ha...</td>\n",
       "    </tr>\n",
       "    <tr>\n",
       "      <th>ch3oh_W22_09_0010</th>\n",
       "      <td>-12.0825</td>\n",
       "      <td>Molecule(name='CH48O23', formula='CH48O23', ha...</td>\n",
       "    </tr>\n",
       "    <tr>\n",
       "      <th>ch3oh_W22_10_0040</th>\n",
       "      <td>-13.0881</td>\n",
       "      <td>Molecule(name='CH48O23', formula='CH48O23', ha...</td>\n",
       "    </tr>\n",
       "  </tbody>\n",
       "</table>\n",
       "</div>"
      ],
      "text/plain": [
       "                  TPSSH-D3BJ/def2-tzvp  \\\n",
       "ch3oh_W22_03_0036             -12.0508   \n",
       "ch3oh_W22_04_0021             -12.6029   \n",
       "ch3oh_W22_04_0027             -13.2289   \n",
       "ch3oh_W22_04_0033             -12.3037   \n",
       "ch3oh_W22_05_0014             -12.5846   \n",
       "ch3oh_W22_05_0025             -12.5008   \n",
       "ch3oh_W22_05_0027             -12.6998   \n",
       "ch3oh_W22_06_0027              -12.382   \n",
       "ch3oh_W22_09_0010             -12.0825   \n",
       "ch3oh_W22_10_0040             -13.0881   \n",
       "\n",
       "                                                            molecule  \n",
       "ch3oh_W22_03_0036  Molecule(name='CH48O23', formula='CH48O23', ha...  \n",
       "ch3oh_W22_04_0021  Molecule(name='CH48O23', formula='CH48O23', ha...  \n",
       "ch3oh_W22_04_0027  Molecule(name='CH48O23', formula='CH48O23', ha...  \n",
       "ch3oh_W22_04_0033  Molecule(name='CH48O23', formula='CH48O23', ha...  \n",
       "ch3oh_W22_05_0014  Molecule(name='CH48O23', formula='CH48O23', ha...  \n",
       "ch3oh_W22_05_0025  Molecule(name='CH48O23', formula='CH48O23', ha...  \n",
       "ch3oh_W22_05_0027  Molecule(name='CH48O23', formula='CH48O23', ha...  \n",
       "ch3oh_W22_06_0027  Molecule(name='CH48O23', formula='CH48O23', ha...  \n",
       "ch3oh_W22_09_0010  Molecule(name='CH48O23', formula='CH48O23', ha...  \n",
       "ch3oh_W22_10_0040  Molecule(name='CH48O23', formula='CH48O23', ha...  "
      ]
     },
     "execution_count": 26,
     "metadata": {},
     "output_type": "execute_result"
    }
   ],
   "source": [
    "mol_high = df_mol[df_mol[\"TPSSH-D3BJ/def2-tzvp\"] < -12.0]\n",
    "mol_high"
   ]
  },
  {
   "cell_type": "markdown",
   "metadata": {},
   "source": [
    "So that we can chose one of these structures extract the xyz and use it as an initial structure for a reactivity study for example."
   ]
  },
  {
   "cell_type": "code",
   "execution_count": 28,
   "metadata": {},
   "outputs": [
    {
     "data": {
      "application/vnd.jupyter.widget-view+json": {
       "model_id": "58be8531ac9d46b5a6d6664e759c3514",
       "version_major": 2,
       "version_minor": 0
      },
      "text/plain": []
     },
     "metadata": {},
     "output_type": "display_data"
    },
    {
     "data": {
      "application/vnd.jupyter.widget-view+json": {
       "model_id": "acf745e92b494636bc0b57cd3c956cad",
       "version_major": 2,
       "version_minor": 0
      },
      "text/plain": [
       "NGLWidget()"
      ]
     },
     "metadata": {},
     "output_type": "display_data"
    }
   ],
   "source": [
    "mol1 = mol_high['molecule'][0]\n",
    "mol1"
   ]
  },
  {
   "cell_type": "markdown",
   "metadata": {},
   "source": [
    "We can see that in this binding mode the methanol molecule is well inserted into the ASW surface and acts as a hydrogen donor and acceptor, as expected for a high binding energy mode. From the molecule object you can extract xyz coordianates and many other properties! "
   ]
  },
  {
   "cell_type": "code",
   "execution_count": 32,
   "metadata": {},
   "outputs": [
    {
     "name": "stdout",
     "output_type": "stream",
     "text": [
      "72\n",
      "0 1 CH48O23\n",
      "O                     2.491643887740     2.767966357417     2.245585359080\n",
      "H                     2.679107719259     3.294457279354     1.466797157884\n",
      "H                     1.603238421264     3.012715098396     2.508937774701\n",
      "O                    -4.430938873733    -0.781298501465    -0.352341363666\n",
      "H                    -4.105756149252    -1.159562780278    -1.172222016809\n",
      "H                    -4.479532989443    -1.498059407584     0.291186967565\n",
      "O                    -1.497291846624     0.676195985643    -3.542687641246\n",
      "H                    -1.883577996858     1.488920173191    -3.209922241261\n",
      "H                    -2.128565984145    -0.024286132991    -3.363352474402\n",
      "O                     2.929497886186    -2.477901436043     2.122958785379\n",
      "H                     2.742544832386    -1.532450179413     2.099809536707\n",
      "H                     3.344761039629    -2.666781361653     1.278304161358\n",
      "O                     1.022018484045    -4.102497380736    -0.590678752314\n",
      "H                     1.908123109176    -3.748692762706    -0.705154144851\n",
      "H                     0.945149128193    -4.312336142374     0.342359287563\n",
      "O                    -0.498228228586     0.186016754102     1.888189299989\n",
      "H                    -0.530252662807     1.056799603443     2.295389729530\n",
      "H                     0.432633839891     0.079645477708     1.636940622415\n",
      "O                    -3.230722318834     3.315410807734     1.743718105819\n",
      "H                    -3.927362658545     3.240299584955     2.386204783462\n",
      "H                    -3.160823549790     2.450941217145     1.296304071261\n",
      "O                    -4.193300073089    -2.674556128484     1.656009142193\n",
      "H                    -4.511839247571    -3.558849163061     1.785999645415\n",
      "H                    -3.251991633714    -2.674245247457     1.869143069155\n",
      "O                     2.655267359858     3.865077595956    -0.442394444749\n",
      "H                     2.626380406736     4.773619572950    -0.720521271129\n",
      "H                     1.767457318288     3.491061710544    -0.597511472583\n",
      "O                    -2.697797205277     1.093778173543     0.324869329862\n",
      "H                    -1.915883937479     0.663524313448     0.687947175247\n",
      "H                    -3.354613372064     0.394305576857     0.114417098376\n",
      "O                     4.437460691807     2.075981427758    -1.643733040547\n",
      "H                     5.304449409340     2.175005771804    -1.268178101427\n",
      "H                     3.888184917918     2.767797571054    -1.255140423814\n",
      "O                    -1.463789568623    -2.375215582582     1.941692037046\n",
      "H                    -1.180005869612    -1.480464783923     2.167893603634\n",
      "H                    -0.748196456064    -2.969799784421     2.198507182618\n",
      "O                    -2.887941531039    -1.677646981375    -2.584523172011\n",
      "H                    -2.169134587694    -1.989932191412    -2.008593530494\n",
      "H                    -3.088022984593    -2.384882644784    -3.187126985685\n",
      "O                    -0.910943383176    -2.214500389037    -0.806536105665\n",
      "H                    -1.222380168682    -2.248559234461     0.107832493426\n",
      "H                    -0.232710747910    -2.912091771323    -0.858936159126\n",
      "O                     3.016576705590    -0.237397061911    -1.211794740598\n",
      "H                     2.133704871664    -0.108261148134    -1.589809067847\n",
      "H                     3.567375615536     0.514436450290    -1.471963546742\n",
      "O                     3.586768579155    -2.813909734519    -0.654586679697\n",
      "H                     3.467958674918    -1.897346203610    -0.958328926929\n",
      "H                     4.336790590761    -3.167667610326    -1.118282766762\n",
      "O                    -2.174013321113     2.820597237977    -1.782905837312\n",
      "H                    -2.447866845720     2.183166240029    -1.108197268264\n",
      "H                    -2.641733033558     3.635906181027    -1.567726338801\n",
      "O                     0.363328955847     0.111154255196    -1.648691071171\n",
      "H                    -0.188621427834     0.313514451654    -2.425995528262\n",
      "H                    -0.057117345496    -0.660086630118    -1.242779230472\n",
      "O                     0.775469524530    -4.008007101116     2.295730255065\n",
      "H                     1.574876523062    -3.438961885774     2.321629621825\n",
      "H                     0.885161737178    -4.669234325086     2.969276650414\n",
      "O                     2.217926065336     0.143406262076     1.442971372023\n",
      "H                     2.542932288051     0.091674638809     0.535020829939\n",
      "H                     2.433015778350     1.029469653720     1.774693149880\n",
      "O                     0.272701458194     2.638246560089    -0.580733051851\n",
      "H                    -0.506666160298     2.891841963965    -1.100962002891\n",
      "H                     0.382770138093     1.697957390107    -0.799075648930\n",
      "O                    -0.381720769101     2.996192032128     2.129205034420\n",
      "H                    -0.228861856845     2.915212562172     1.178348655925\n",
      "H                    -1.275404757087     3.328803240457     2.226137398074\n",
      "C                    -2.250423356437     6.025178117936    -0.240748679860\n",
      "O                    -3.229007901090     5.052481680480    -0.469123138034\n",
      "H                    -3.369416395435     4.558376149831     0.344166956914\n",
      "H                    -2.568431168207     6.746692432434     0.505475961374\n",
      "H                    -2.083049160918     6.550791394177    -1.170665484378\n",
      "H                    -1.308470093464     5.587628655682     0.082674890237\n",
      "\n"
     ]
    }
   ],
   "source": [
    "print(mol1.to_string(dtype=\"xyz\"))"
   ]
  },
  {
   "cell_type": "markdown",
   "metadata": {},
   "source": [
    "In this way every single binding site that was computed using beep can be easily accessed to be used in future \n",
    "studies of intersteller surface chemistry. "
   ]
  }
 ],
 "metadata": {
  "kernelspec": {
   "display_name": "Python 3",
   "language": "python",
   "name": "python3"
  },
  "language_info": {
   "codemirror_mode": {
    "name": "ipython",
    "version": 3
   },
   "file_extension": ".py",
   "mimetype": "text/x-python",
   "name": "python",
   "nbconvert_exporter": "python",
   "pygments_lexer": "ipython3",
   "version": "3.9.0"
  }
 },
 "nbformat": 4,
 "nbformat_minor": 5
}
