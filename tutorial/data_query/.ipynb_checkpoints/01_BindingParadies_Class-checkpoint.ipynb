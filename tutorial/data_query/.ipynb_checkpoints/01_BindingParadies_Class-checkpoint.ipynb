{
 "cells": [
  {
   "cell_type": "markdown",
   "id": "0d8bfc93",
   "metadata": {},
   "source": [
    "# The BindingParadise Class \n",
    "\n",
    "The binding paradies class was written with the goal of providing \n",
    "an easy to use interface between the BEEP database and the user. I this tutorial\n",
    "I will explain the different methods contain in the class and how to access the \n",
    "different data contained in the database. Even though this class is \n",
    "a straightforward gateway to the database, the user can also use any QCPortal \n",
    "method to access the data in the database. \n",
    "\n",
    "The first thing we will do is to create a BindingParadies object which we will call\n",
    "`bp`. The only thing the user needs to provide is a username and password. "
   ]
  },
  {
   "cell_type": "code",
   "execution_count": 22,
   "id": "29a9e04f",
   "metadata": {},
   "outputs": [],
   "source": [
    "from beep.beep import BindingParadise \n",
    "\n",
    "bp = BindingParadise('guest','pOg_41tzuDxkTtAfjPuUq8WK5ssbnmN8QfjsApGXVYk')\n"
   ]
  },
  {
   "cell_type": "markdown",
   "id": "605dc7d3",
   "metadata": {},
   "source": [
    "Next we will list all the molecules that have been included in the database thus far using the `molecule_list()` method"
   ]
  },
  {
   "cell_type": "code",
   "execution_count": 23,
   "id": "f3a27a69",
   "metadata": {},
   "outputs": [
    {
     "data": {
      "text/plain": [
       "['ch2o2_W22',\n",
       " 'ch3_W22',\n",
       " 'ch3o_W22',\n",
       " 'ch3oh_W22',\n",
       " 'ch4_W22',\n",
       " 'co_W22',\n",
       " 'h2_W22',\n",
       " 'h2co_W22',\n",
       " 'h2o_W22',\n",
       " 'h2s_W22',\n",
       " 'hcl_W22',\n",
       " 'hcn_W22',\n",
       " 'hco_W22',\n",
       " 'hf_W22',\n",
       " 'n2_W22',\n",
       " 'nh2_W22',\n",
       " 'nh3_W22',\n",
       " 'nhch2_W22']"
      ]
     },
     "execution_count": 23,
     "metadata": {},
     "output_type": "execute_result"
    }
   ],
   "source": [
    "bp.molecules_list()"
   ]
  },
  {
   "cell_type": "markdown",
   "id": "56baf747",
   "metadata": {},
   "source": [
    "As you can see all molecules contain the target molecule and the ice model on which the binding energies were computed for example W22, means they were computed on an a set of amorphous solid water cluster containing 22 molecules each. \n",
    "\n",
    "In this tuturial we will be interested in exploring the binding energies and binding sites of amonia (NH3). Therfore we set the molecule with the `set_molecule` method. "
   ]
  },
  {
   "cell_type": "code",
   "execution_count": 24,
   "id": "b0bbe7d6",
   "metadata": {},
   "outputs": [
    {
     "name": "stdout",
     "output_type": "stream",
     "text": [
      "Molecule set: NH3_W22\n"
     ]
    }
   ],
   "source": [
    "bp.set_molecule('nh3_W22');"
   ]
  },
  {
   "cell_type": "markdown",
   "id": "4ab44b30",
   "metadata": {},
   "source": [
    "Now that a molecule has been asigned to the `bp` object we can retrive the different optimization methods of the binding sites."
   ]
  },
  {
   "cell_type": "code",
   "execution_count": 26,
   "id": "2e6a0353",
   "metadata": {},
   "outputs": [
    {
     "name": "stdout",
     "output_type": "stream",
     "text": [
      "List of optimization methods: ['M05', 'MPWB1K-D3BJ', 'HF3C', 'PW91-D3']\n"
     ]
    }
   ],
   "source": [
    "bp.get_optimization_methods();"
   ]
  },
  {
   "cell_type": "markdown",
   "id": "a696d3a9",
   "metadata": {},
   "source": [
    "Wow! three methods! Let's load the data of one of those three methods"
   ]
  },
  {
   "cell_type": "code",
   "execution_count": 27,
   "id": "35b58fbf",
   "metadata": {},
   "outputs": [],
   "source": [
    "bp.load_data(\"M05\")"
   ]
  },
  {
   "cell_type": "markdown",
   "id": "493db74a",
   "metadata": {},
   "source": [
    "Once we have the optimization method, we must list the levels of theory of the binding energy computations for these geomtries. "
   ]
  },
  {
   "cell_type": "code",
   "execution_count": 30,
   "id": "3762216f",
   "metadata": {},
   "outputs": [
    {
     "name": "stdout",
     "output_type": "stream",
     "text": [
      "The available binding energy methods for M05 geometries are : ['b3lyp', 'b3lyp-d3bj', 'pwb6k', 'pwb6k-d3bj', 'mn12-l', 'mn12-l-d3bj']\n"
     ]
    }
   ],
   "source": [
    "bp.get_methods();"
   ]
  },
  {
   "cell_type": "markdown",
   "id": "944cfd06",
   "metadata": {},
   "source": [
    "We are finally ready to retrive the  binding energies!"
   ]
  },
  {
   "cell_type": "code",
   "execution_count": 31,
   "id": "1ff66513",
   "metadata": {},
   "outputs": [
    {
     "name": "stdout",
     "output_type": "stream",
     "text": [
      "The available binding energy methods for M05 geometries are : ['b3lyp', 'b3lyp-d3bj', 'pwb6k', 'pwb6k-d3bj', 'mn12-l', 'mn12-l-d3bj']\n"
     ]
    }
   ],
   "source": [
    "df_be = bp.get_values('b3lyp-d3bj', zpve=True)"
   ]
  },
  {
   "cell_type": "markdown",
   "id": "08a538c1",
   "metadata": {},
   "source": [
    "Notice that the return object is a pandas dataframe and that the user can select if the values should be corrected for zero-point vibrational energy or not. Let's check out the resulting dataframe with the binding energies! The nomenclature of the entries is as follows: First the molecule name (e.g. NH3), than the ASW model (W22), the number of the cluster and finally the number of the binding site on the specific cluster.  "
   ]
  },
  {
   "cell_type": "code",
   "execution_count": 32,
   "id": "043ff458",
   "metadata": {},
   "outputs": [
    {
     "data": {
      "text/html": [
       "<div>\n",
       "<style scoped>\n",
       "    .dataframe tbody tr th:only-of-type {\n",
       "        vertical-align: middle;\n",
       "    }\n",
       "\n",
       "    .dataframe tbody tr th {\n",
       "        vertical-align: top;\n",
       "    }\n",
       "\n",
       "    .dataframe thead th {\n",
       "        text-align: right;\n",
       "    }\n",
       "</style>\n",
       "<table border=\"1\" class=\"dataframe\">\n",
       "  <thead>\n",
       "    <tr style=\"text-align: right;\">\n",
       "      <th></th>\n",
       "      <th>B3LYP-D3BJ/def2-tzvp</th>\n",
       "      <th>B3LYP-D3BJ + ZPVE</th>\n",
       "    </tr>\n",
       "  </thead>\n",
       "  <tbody>\n",
       "    <tr>\n",
       "      <th>nh3_W22_04_0002</th>\n",
       "      <td>-8.46069</td>\n",
       "      <td>-6.30605</td>\n",
       "    </tr>\n",
       "    <tr>\n",
       "      <th>nh3_W22_04_0003</th>\n",
       "      <td>-10.9358</td>\n",
       "      <td>-8.19245</td>\n",
       "    </tr>\n",
       "    <tr>\n",
       "      <th>nh3_W22_04_0006</th>\n",
       "      <td>-8.84341</td>\n",
       "      <td>-6.59774</td>\n",
       "    </tr>\n",
       "    <tr>\n",
       "      <th>nh3_W22_04_0007</th>\n",
       "      <td>-9.69759</td>\n",
       "      <td>-7.24875</td>\n",
       "    </tr>\n",
       "    <tr>\n",
       "      <th>nh3_W22_04_0010</th>\n",
       "      <td>-9.94742</td>\n",
       "      <td>-7.43916</td>\n",
       "    </tr>\n",
       "    <tr>\n",
       "      <th>...</th>\n",
       "      <td>...</td>\n",
       "      <td>...</td>\n",
       "    </tr>\n",
       "    <tr>\n",
       "      <th>nh3_W22_07_0076</th>\n",
       "      <td>-10.0868</td>\n",
       "      <td>-7.54536</td>\n",
       "    </tr>\n",
       "    <tr>\n",
       "      <th>nh3_W22_07_0086</th>\n",
       "      <td>-9.63914</td>\n",
       "      <td>-7.20421</td>\n",
       "    </tr>\n",
       "    <tr>\n",
       "      <th>nh3_W22_07_0090</th>\n",
       "      <td>-3.84334</td>\n",
       "      <td>-2.78694</td>\n",
       "    </tr>\n",
       "    <tr>\n",
       "      <th>nh3_W22_07_0095</th>\n",
       "      <td>-11.0039</td>\n",
       "      <td>-8.24436</td>\n",
       "    </tr>\n",
       "    <tr>\n",
       "      <th>nh3_W22_07_0100</th>\n",
       "      <td>-3.40625</td>\n",
       "      <td>-2.45382</td>\n",
       "    </tr>\n",
       "  </tbody>\n",
       "</table>\n",
       "<p>64 rows × 2 columns</p>\n",
       "</div>"
      ],
      "text/plain": [
       "                B3LYP-D3BJ/def2-tzvp B3LYP-D3BJ + ZPVE\n",
       "nh3_W22_04_0002             -8.46069          -6.30605\n",
       "nh3_W22_04_0003             -10.9358          -8.19245\n",
       "nh3_W22_04_0006             -8.84341          -6.59774\n",
       "nh3_W22_04_0007             -9.69759          -7.24875\n",
       "nh3_W22_04_0010             -9.94742          -7.43916\n",
       "...                              ...               ...\n",
       "nh3_W22_07_0076             -10.0868          -7.54536\n",
       "nh3_W22_07_0086             -9.63914          -7.20421\n",
       "nh3_W22_07_0090             -3.84334          -2.78694\n",
       "nh3_W22_07_0095             -11.0039          -8.24436\n",
       "nh3_W22_07_0100             -3.40625          -2.45382\n",
       "\n",
       "[64 rows x 2 columns]"
      ]
     },
     "execution_count": 32,
     "metadata": {},
     "output_type": "execute_result"
    }
   ],
   "source": [
    "df_be"
   ]
  },
  {
   "cell_type": "markdown",
   "id": "6de28253",
   "metadata": {},
   "source": [
    "Finally we can also access the xyz coordinates of all the different binding sites (up to 250 per species!) to do this we call the `get_molecules` methods which saves the molecule objects in a Pandas dataframe."
   ]
  },
  {
   "cell_type": "code",
   "execution_count": null,
   "id": "d8e9b6cf",
   "metadata": {},
   "outputs": [],
   "source": [
    "df_mol = bp.get_molecules()"
   ]
  },
  {
   "cell_type": "markdown",
   "id": "75628879",
   "metadata": {},
   "source": [
    "From the molecule object you can extract xyz coordianates and many other properties! "
   ]
  }
 ],
 "metadata": {
  "kernelspec": {
   "display_name": "Python 3",
   "language": "python",
   "name": "python3"
  },
  "language_info": {
   "codemirror_mode": {
    "name": "ipython",
    "version": 3
   },
   "file_extension": ".py",
   "mimetype": "text/x-python",
   "name": "python",
   "nbconvert_exporter": "python",
   "pygments_lexer": "ipython3",
   "version": "3.7.9"
  }
 },
 "nbformat": 4,
 "nbformat_minor": 5
}
