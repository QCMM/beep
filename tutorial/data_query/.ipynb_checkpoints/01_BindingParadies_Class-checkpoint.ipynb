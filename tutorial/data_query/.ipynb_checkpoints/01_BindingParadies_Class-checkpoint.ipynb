{
 "cells": [
  {
   "cell_type": "code",
   "execution_count": 19,
   "id": "29a9e04f",
   "metadata": {},
   "outputs": [
    {
     "data": {
      "text/plain": [
       "['ch2o2_W22',\n",
       " 'ch3_W22',\n",
       " 'ch3o_W22',\n",
       " 'ch3oh_W22',\n",
       " 'ch4_W22',\n",
       " 'co_W22',\n",
       " 'h2_W22',\n",
       " 'h2co_W22',\n",
       " 'h2o_W22',\n",
       " 'h2s_W22',\n",
       " 'hcl_W22',\n",
       " 'hcn_W22',\n",
       " 'hco_W22',\n",
       " 'hf_W22',\n",
       " 'n2_W22',\n",
       " 'nh2_W22',\n",
       " 'nh3_W22',\n",
       " 'nhch2_W22']"
      ]
     },
     "execution_count": 19,
     "metadata": {},
     "output_type": "execute_result"
    }
   ],
   "source": [
    "from beep.beep import BindingParadise \n",
    "\n",
    "bp = BindingParadise('guest','pOg_41tzuDxkTtAfjPuUq8WK5ssbnmN8QfjsApGXVYk')\n",
    "\n",
    "bp.molecules_list()"
   ]
  },
  {
   "cell_type": "code",
   "execution_count": null,
   "id": "f3a27a69",
   "metadata": {},
   "outputs": [],
   "source": []
  },
  {
   "cell_type": "code",
   "execution_count": 12,
   "id": "b0bbe7d6",
   "metadata": {},
   "outputs": [
    {
     "name": "stdout",
     "output_type": "stream",
     "text": [
      "Molecule set: NH3_W22\n"
     ]
    }
   ],
   "source": [
    "bp.set_molecule('nh3_W22')"
   ]
  },
  {
   "cell_type": "code",
   "execution_count": 13,
   "id": "2e6a0353",
   "metadata": {},
   "outputs": [
    {
     "name": "stdout",
     "output_type": "stream",
     "text": [
      "List of optimization methods: ['M05', 'MPWB1K-D3BJ', 'HF3C', 'PW91-D3']\n"
     ]
    },
    {
     "data": {
      "text/plain": [
       "['M05', 'MPWB1K-D3BJ', 'HF3C', 'PW91-D3']"
      ]
     },
     "execution_count": 13,
     "metadata": {},
     "output_type": "execute_result"
    }
   ],
   "source": [
    "bp.get_optimization_methods()"
   ]
  },
  {
   "cell_type": "code",
   "execution_count": 14,
   "id": "35b58fbf",
   "metadata": {},
   "outputs": [],
   "source": [
    "bp.load_data(\"M05\")"
   ]
  },
  {
   "cell_type": "code",
   "execution_count": 15,
   "id": "3762216f",
   "metadata": {},
   "outputs": [
    {
     "name": "stdout",
     "output_type": "stream",
     "text": [
      "The available binding energy methods for M05 geometries are : ['b3lyp', 'b3lyp-d3bj', 'pwb6k', 'pwb6k-d3bj', 'mn12-l', 'mn12-l-d3bj']\n"
     ]
    },
    {
     "data": {
      "text/plain": [
       "{'b3lyp': 'default',\n",
       " 'b3lyp-d3bj': 'default',\n",
       " 'pwb6k': 'default',\n",
       " 'pwb6k-d3bj': 'default',\n",
       " 'mn12-l': 'default',\n",
       " 'mn12-l-d3bj': 'default'}"
      ]
     },
     "execution_count": 15,
     "metadata": {},
     "output_type": "execute_result"
    }
   ],
   "source": [
    "bp.get_methods()"
   ]
  },
  {
   "cell_type": "code",
   "execution_count": 16,
   "id": "1ff66513",
   "metadata": {},
   "outputs": [
    {
     "name": "stdout",
     "output_type": "stream",
     "text": [
      "The available binding energy methods for M05 geometries are : ['b3lyp', 'b3lyp-d3bj', 'pwb6k', 'pwb6k-d3bj', 'mn12-l', 'mn12-l-d3bj']\n"
     ]
    }
   ],
   "source": [
    "df_be = bp.get_values('b3lyp-d3bj', zpve=True)"
   ]
  },
  {
   "cell_type": "code",
   "execution_count": 17,
   "id": "043ff458",
   "metadata": {},
   "outputs": [
    {
     "data": {
      "text/html": [
       "<div>\n",
       "<style scoped>\n",
       "    .dataframe tbody tr th:only-of-type {\n",
       "        vertical-align: middle;\n",
       "    }\n",
       "\n",
       "    .dataframe tbody tr th {\n",
       "        vertical-align: top;\n",
       "    }\n",
       "\n",
       "    .dataframe thead th {\n",
       "        text-align: right;\n",
       "    }\n",
       "</style>\n",
       "<table border=\"1\" class=\"dataframe\">\n",
       "  <thead>\n",
       "    <tr style=\"text-align: right;\">\n",
       "      <th></th>\n",
       "      <th>B3LYP-D3BJ/def2-tzvp</th>\n",
       "      <th>B3LYP-D3BJ + ZPVE</th>\n",
       "    </tr>\n",
       "  </thead>\n",
       "  <tbody>\n",
       "    <tr>\n",
       "      <th>nh3_W22_04_0002</th>\n",
       "      <td>-8.46069</td>\n",
       "      <td>-6.30605</td>\n",
       "    </tr>\n",
       "    <tr>\n",
       "      <th>nh3_W22_04_0003</th>\n",
       "      <td>-10.9358</td>\n",
       "      <td>-8.19245</td>\n",
       "    </tr>\n",
       "    <tr>\n",
       "      <th>nh3_W22_04_0006</th>\n",
       "      <td>-8.84341</td>\n",
       "      <td>-6.59774</td>\n",
       "    </tr>\n",
       "    <tr>\n",
       "      <th>nh3_W22_04_0007</th>\n",
       "      <td>-9.69759</td>\n",
       "      <td>-7.24875</td>\n",
       "    </tr>\n",
       "    <tr>\n",
       "      <th>nh3_W22_04_0010</th>\n",
       "      <td>-9.94742</td>\n",
       "      <td>-7.43916</td>\n",
       "    </tr>\n",
       "    <tr>\n",
       "      <th>...</th>\n",
       "      <td>...</td>\n",
       "      <td>...</td>\n",
       "    </tr>\n",
       "    <tr>\n",
       "      <th>nh3_W22_07_0076</th>\n",
       "      <td>-10.0868</td>\n",
       "      <td>-7.54536</td>\n",
       "    </tr>\n",
       "    <tr>\n",
       "      <th>nh3_W22_07_0086</th>\n",
       "      <td>-9.63914</td>\n",
       "      <td>-7.20421</td>\n",
       "    </tr>\n",
       "    <tr>\n",
       "      <th>nh3_W22_07_0090</th>\n",
       "      <td>-3.84334</td>\n",
       "      <td>-2.78694</td>\n",
       "    </tr>\n",
       "    <tr>\n",
       "      <th>nh3_W22_07_0095</th>\n",
       "      <td>-11.0039</td>\n",
       "      <td>-8.24436</td>\n",
       "    </tr>\n",
       "    <tr>\n",
       "      <th>nh3_W22_07_0100</th>\n",
       "      <td>-3.40625</td>\n",
       "      <td>-2.45382</td>\n",
       "    </tr>\n",
       "  </tbody>\n",
       "</table>\n",
       "<p>64 rows × 2 columns</p>\n",
       "</div>"
      ],
      "text/plain": [
       "                B3LYP-D3BJ/def2-tzvp B3LYP-D3BJ + ZPVE\n",
       "nh3_W22_04_0002             -8.46069          -6.30605\n",
       "nh3_W22_04_0003             -10.9358          -8.19245\n",
       "nh3_W22_04_0006             -8.84341          -6.59774\n",
       "nh3_W22_04_0007             -9.69759          -7.24875\n",
       "nh3_W22_04_0010             -9.94742          -7.43916\n",
       "...                              ...               ...\n",
       "nh3_W22_07_0076             -10.0868          -7.54536\n",
       "nh3_W22_07_0086             -9.63914          -7.20421\n",
       "nh3_W22_07_0090             -3.84334          -2.78694\n",
       "nh3_W22_07_0095             -11.0039          -8.24436\n",
       "nh3_W22_07_0100             -3.40625          -2.45382\n",
       "\n",
       "[64 rows x 2 columns]"
      ]
     },
     "execution_count": 17,
     "metadata": {},
     "output_type": "execute_result"
    }
   ],
   "source": [
    "df_be"
   ]
  },
  {
   "cell_type": "code",
   "execution_count": 18,
   "id": "d8e9b6cf",
   "metadata": {},
   "outputs": [
    {
     "name": "stdout",
     "output_type": "stream",
     "text": [
      "The available binding energy methods for M05 geometries are : ['b3lyp', 'b3lyp-d3bj', 'pwb6k', 'pwb6k-d3bj', 'mn12-l', 'mn12-l-d3bj']\n",
      "The available binding energy methods for M05 geometries are : ['b3lyp', 'b3lyp-d3bj', 'pwb6k', 'pwb6k-d3bj', 'mn12-l', 'mn12-l-d3bj']\n"
     ]
    },
    {
     "ename": "KeyError",
     "evalue": "'Molecule'",
     "output_type": "error",
     "traceback": [
      "\u001b[0;31m---------------------------------------------------------------------------\u001b[0m",
      "\u001b[0;31mKeyError\u001b[0m                                  Traceback (most recent call last)",
      "\u001b[0;32m/opt/anaconda/envs/qcfractal/lib/python3.7/site-packages/pandas/core/indexes/base.py\u001b[0m in \u001b[0;36mget_loc\u001b[0;34m(self, key, method, tolerance)\u001b[0m\n\u001b[1;32m   2890\u001b[0m             \u001b[0;32mtry\u001b[0m\u001b[0;34m:\u001b[0m\u001b[0;34m\u001b[0m\u001b[0;34m\u001b[0m\u001b[0m\n\u001b[0;32m-> 2891\u001b[0;31m                 \u001b[0;32mreturn\u001b[0m \u001b[0mself\u001b[0m\u001b[0;34m.\u001b[0m\u001b[0m_engine\u001b[0m\u001b[0;34m.\u001b[0m\u001b[0mget_loc\u001b[0m\u001b[0;34m(\u001b[0m\u001b[0mcasted_key\u001b[0m\u001b[0;34m)\u001b[0m\u001b[0;34m\u001b[0m\u001b[0;34m\u001b[0m\u001b[0m\n\u001b[0m\u001b[1;32m   2892\u001b[0m             \u001b[0;32mexcept\u001b[0m \u001b[0mKeyError\u001b[0m \u001b[0;32mas\u001b[0m \u001b[0merr\u001b[0m\u001b[0;34m:\u001b[0m\u001b[0;34m\u001b[0m\u001b[0;34m\u001b[0m\u001b[0m\n",
      "\u001b[0;32mpandas/_libs/index.pyx\u001b[0m in \u001b[0;36mpandas._libs.index.IndexEngine.get_loc\u001b[0;34m()\u001b[0m\n",
      "\u001b[0;32mpandas/_libs/index.pyx\u001b[0m in \u001b[0;36mpandas._libs.index.IndexEngine.get_loc\u001b[0;34m()\u001b[0m\n",
      "\u001b[0;32mpandas/_libs/hashtable_class_helper.pxi\u001b[0m in \u001b[0;36mpandas._libs.hashtable.PyObjectHashTable.get_item\u001b[0;34m()\u001b[0m\n",
      "\u001b[0;32mpandas/_libs/hashtable_class_helper.pxi\u001b[0m in \u001b[0;36mpandas._libs.hashtable.PyObjectHashTable.get_item\u001b[0;34m()\u001b[0m\n",
      "\u001b[0;31mKeyError\u001b[0m: 'Molecule'",
      "\nThe above exception was the direct cause of the following exception:\n",
      "\u001b[0;31mKeyError\u001b[0m                                  Traceback (most recent call last)",
      "\u001b[0;32m<ipython-input-18-53e81f792f3c>\u001b[0m in \u001b[0;36m<module>\u001b[0;34m\u001b[0m\n\u001b[0;32m----> 1\u001b[0;31m \u001b[0mdf_mol\u001b[0m \u001b[0;34m=\u001b[0m \u001b[0mbp\u001b[0m\u001b[0;34m.\u001b[0m\u001b[0mget_molecules\u001b[0m\u001b[0;34m(\u001b[0m\u001b[0;34m)\u001b[0m\u001b[0;34m\u001b[0m\u001b[0;34m\u001b[0m\u001b[0m\n\u001b[0m",
      "\u001b[0;32m/opt/anaconda/envs/qcfractal/lib/python3.7/site-packages/beep-0.1.0+8.g2e6a114.dirty-py3.7.egg/beep/beep.py\u001b[0m in \u001b[0;36mget_molecules\u001b[0;34m(self, method)\u001b[0m\n\u001b[1;32m    298\u001b[0m                 \u001b[0;32mif\u001b[0m \u001b[0mmol_frag\u001b[0m \u001b[0;34m==\u001b[0m \u001b[0;36m0\u001b[0m\u001b[0;34m:\u001b[0m\u001b[0;34m\u001b[0m\u001b[0;34m\u001b[0m\u001b[0m\n\u001b[1;32m    299\u001b[0m                     \u001b[0mmol_name\u001b[0m \u001b[0;34m=\u001b[0m \u001b[0midx\u001b[0m\u001b[0;34m[\u001b[0m\u001b[0mi\u001b[0m\u001b[0;34m]\u001b[0m\u001b[0;34m[\u001b[0m\u001b[0;36m0\u001b[0m\u001b[0;34m]\u001b[0m\u001b[0;34m\u001b[0m\u001b[0;34m\u001b[0m\u001b[0m\n\u001b[0;32m--> 300\u001b[0;31m                     \u001b[0mmol_id\u001b[0m \u001b[0;34m=\u001b[0m \u001b[0mrr\u001b[0m\u001b[0;34m.\u001b[0m\u001b[0mloc\u001b[0m\u001b[0;34m[\u001b[0m\u001b[0midx\u001b[0m\u001b[0;34m[\u001b[0m\u001b[0mi\u001b[0m\u001b[0;34m]\u001b[0m\u001b[0;34m]\u001b[0m\u001b[0;34m[\u001b[0m\u001b[0;34m\"Molecule\"\u001b[0m\u001b[0;34m]\u001b[0m\u001b[0;34m\u001b[0m\u001b[0;34m\u001b[0m\u001b[0m\n\u001b[0m\u001b[1;32m    301\u001b[0m                     \u001b[0mmol_list\u001b[0m\u001b[0;34m.\u001b[0m\u001b[0mappend\u001b[0m\u001b[0;34m(\u001b[0m\u001b[0mmol_id\u001b[0m\u001b[0;34m)\u001b[0m\u001b[0;34m\u001b[0m\u001b[0;34m\u001b[0m\u001b[0m\n\u001b[1;32m    302\u001b[0m                     \u001b[0mname_list\u001b[0m\u001b[0;34m.\u001b[0m\u001b[0mappend\u001b[0m\u001b[0;34m(\u001b[0m\u001b[0mmol_name\u001b[0m\u001b[0;34m)\u001b[0m\u001b[0;34m\u001b[0m\u001b[0;34m\u001b[0m\u001b[0m\n",
      "\u001b[0;32m/opt/anaconda/envs/qcfractal/lib/python3.7/site-packages/pandas/core/series.py\u001b[0m in \u001b[0;36m__getitem__\u001b[0;34m(self, key)\u001b[0m\n\u001b[1;32m    880\u001b[0m \u001b[0;34m\u001b[0m\u001b[0m\n\u001b[1;32m    881\u001b[0m         \u001b[0;32melif\u001b[0m \u001b[0mkey_is_scalar\u001b[0m\u001b[0;34m:\u001b[0m\u001b[0;34m\u001b[0m\u001b[0;34m\u001b[0m\u001b[0m\n\u001b[0;32m--> 882\u001b[0;31m             \u001b[0;32mreturn\u001b[0m \u001b[0mself\u001b[0m\u001b[0;34m.\u001b[0m\u001b[0m_get_value\u001b[0m\u001b[0;34m(\u001b[0m\u001b[0mkey\u001b[0m\u001b[0;34m)\u001b[0m\u001b[0;34m\u001b[0m\u001b[0;34m\u001b[0m\u001b[0m\n\u001b[0m\u001b[1;32m    883\u001b[0m \u001b[0;34m\u001b[0m\u001b[0m\n\u001b[1;32m    884\u001b[0m         if (\n",
      "\u001b[0;32m/opt/anaconda/envs/qcfractal/lib/python3.7/site-packages/pandas/core/series.py\u001b[0m in \u001b[0;36m_get_value\u001b[0;34m(self, label, takeable)\u001b[0m\n\u001b[1;32m    989\u001b[0m \u001b[0;34m\u001b[0m\u001b[0m\n\u001b[1;32m    990\u001b[0m         \u001b[0;31m# Similar to Index.get_value, but we do not fall back to positional\u001b[0m\u001b[0;34m\u001b[0m\u001b[0;34m\u001b[0m\u001b[0;34m\u001b[0m\u001b[0m\n\u001b[0;32m--> 991\u001b[0;31m         \u001b[0mloc\u001b[0m \u001b[0;34m=\u001b[0m \u001b[0mself\u001b[0m\u001b[0;34m.\u001b[0m\u001b[0mindex\u001b[0m\u001b[0;34m.\u001b[0m\u001b[0mget_loc\u001b[0m\u001b[0;34m(\u001b[0m\u001b[0mlabel\u001b[0m\u001b[0;34m)\u001b[0m\u001b[0;34m\u001b[0m\u001b[0;34m\u001b[0m\u001b[0m\n\u001b[0m\u001b[1;32m    992\u001b[0m         \u001b[0;32mreturn\u001b[0m \u001b[0mself\u001b[0m\u001b[0;34m.\u001b[0m\u001b[0mindex\u001b[0m\u001b[0;34m.\u001b[0m\u001b[0m_get_values_for_loc\u001b[0m\u001b[0;34m(\u001b[0m\u001b[0mself\u001b[0m\u001b[0;34m,\u001b[0m \u001b[0mloc\u001b[0m\u001b[0;34m,\u001b[0m \u001b[0mlabel\u001b[0m\u001b[0;34m)\u001b[0m\u001b[0;34m\u001b[0m\u001b[0;34m\u001b[0m\u001b[0m\n\u001b[1;32m    993\u001b[0m \u001b[0;34m\u001b[0m\u001b[0m\n",
      "\u001b[0;32m/opt/anaconda/envs/qcfractal/lib/python3.7/site-packages/pandas/core/indexes/base.py\u001b[0m in \u001b[0;36mget_loc\u001b[0;34m(self, key, method, tolerance)\u001b[0m\n\u001b[1;32m   2891\u001b[0m                 \u001b[0;32mreturn\u001b[0m \u001b[0mself\u001b[0m\u001b[0;34m.\u001b[0m\u001b[0m_engine\u001b[0m\u001b[0;34m.\u001b[0m\u001b[0mget_loc\u001b[0m\u001b[0;34m(\u001b[0m\u001b[0mcasted_key\u001b[0m\u001b[0;34m)\u001b[0m\u001b[0;34m\u001b[0m\u001b[0;34m\u001b[0m\u001b[0m\n\u001b[1;32m   2892\u001b[0m             \u001b[0;32mexcept\u001b[0m \u001b[0mKeyError\u001b[0m \u001b[0;32mas\u001b[0m \u001b[0merr\u001b[0m\u001b[0;34m:\u001b[0m\u001b[0;34m\u001b[0m\u001b[0;34m\u001b[0m\u001b[0m\n\u001b[0;32m-> 2893\u001b[0;31m                 \u001b[0;32mraise\u001b[0m \u001b[0mKeyError\u001b[0m\u001b[0;34m(\u001b[0m\u001b[0mkey\u001b[0m\u001b[0;34m)\u001b[0m \u001b[0;32mfrom\u001b[0m \u001b[0merr\u001b[0m\u001b[0;34m\u001b[0m\u001b[0;34m\u001b[0m\u001b[0m\n\u001b[0m\u001b[1;32m   2894\u001b[0m \u001b[0;34m\u001b[0m\u001b[0m\n\u001b[1;32m   2895\u001b[0m         \u001b[0;32mif\u001b[0m \u001b[0mtolerance\u001b[0m \u001b[0;32mis\u001b[0m \u001b[0;32mnot\u001b[0m \u001b[0;32mNone\u001b[0m\u001b[0;34m:\u001b[0m\u001b[0;34m\u001b[0m\u001b[0;34m\u001b[0m\u001b[0m\n",
      "\u001b[0;31mKeyError\u001b[0m: 'Molecule'"
     ]
    }
   ],
   "source": [
    "df_mol = bp.get_molecules()"
   ]
  },
  {
   "cell_type": "code",
   "execution_count": null,
   "id": "0e68358f",
   "metadata": {},
   "outputs": [],
   "source": []
  }
 ],
 "metadata": {
  "kernelspec": {
   "display_name": "Python 3",
   "language": "python",
   "name": "python3"
  },
  "language_info": {
   "codemirror_mode": {
    "name": "ipython",
    "version": 3
   },
   "file_extension": ".py",
   "mimetype": "text/x-python",
   "name": "python",
   "nbconvert_exporter": "python",
   "pygments_lexer": "ipython3",
   "version": "3.7.9"
  }
 },
 "nbformat": 4,
 "nbformat_minor": 5
}
