{
 "cells": [
  {
   "cell_type": "markdown",
   "metadata": {},
   "source": [
    "# QCFractal collection creation\n",
    "\n",
    "The Binding Energy Evaulation Platfrom is powerd by QCFractal meaning that all the data is saved \n",
    "in easy-to-query data collections. You can check out the QCFractal documentation on how to install\n",
    "and initialize a  [QCFractal server](http://docs.qcarchive.molssi.org/projects/QCFractal/en/stable/quickstart.html). For this demonstration \n",
    "we will  use a temporary \"Snowflake\" sever. So as a first step we import the qcfractal module and  start our toy-server."
   ]
  },
  {
   "cell_type": "code",
   "execution_count": 1,
   "metadata": {},
   "outputs": [],
   "source": [
    "from qcfractal import FractalSnowflakeHandler\n",
    "import qcfractal.interface as ptl"
   ]
  },
  {
   "cell_type": "markdown",
   "metadata": {},
   "source": [
    "The second library is an interface with the QCPortal libraries that is the front end to the server data. Once the libriaries are imported we can initialize a server client. "
   ]
  },
  {
   "cell_type": "code",
   "execution_count": 47,
   "metadata": {},
   "outputs": [
    {
     "data": {
      "text/html": [
       "\n",
       "<h3>FractalClient</h3>\n",
       "<ul>\n",
       "  <li><b>Server:   &nbsp; </b>FractalSnowFlake_db_acf76</li>\n",
       "  <li><b>Address:  &nbsp; </b>https://localhost:57089/</li>\n",
       "  <li><b>Username: &nbsp; </b>None</li>\n",
       "</ul>\n"
      ],
      "text/plain": [
       "FractalClient(server_name='FractalSnowFlake_db_acf76', address='https://localhost:57089/', username='None')"
      ]
     },
     "execution_count": 47,
     "metadata": {},
     "output_type": "execute_result"
    }
   ],
   "source": [
    "client = FractalSnowflakeHandler().client()\n",
    "client"
   ]
  },
  {
   "cell_type": "markdown",
   "metadata": {},
   "source": [
    "Alternatively you can spin up your own permanent server using the `qcfractal-server` comand line tool. Instructions\n",
    "on how to initialce a server can be found in the [QCFractal server documentatnion](http://docs.qcarchive.molssi.org/projects/QCFractal/en/stable/setup_server.html)"
   ]
  },
  {
   "cell_type": "markdown",
   "metadata": {},
   "source": [
    "Now that our client is loaded we will create two molecule objects that we will save in data collections called OptimizationDatasets. We will create the molecules using a string of xyz coordinates. The molecules we will use for this example are a water pentamer and the methanol molecule. "
   ]
  },
  {
   "cell_type": "code",
   "execution_count": 36,
   "metadata": {},
   "outputs": [],
   "source": [
    "w5_xyz = '''H                 0.172970266612     1.380092911130     0.457386526990\n",
    "    H                -1.911743135806     0.591094283257    -0.435363356758\n",
    "    O                -0.689370829428     1.203413826146     0.902232866763\n",
    "    O                 1.683383001712     1.425574187566    -0.342538154484\n",
    "    H                 1.982201397053     0.492649561018    -0.410548565072\n",
    "    H                 1.705903260790     1.780383434343    -1.232746014340\n",
    "    O                 2.115028368559    -1.237273923747    -0.530994509997\n",
    "    H                 2.756214454001    -1.798495919214    -0.094310909878\n",
    "    H                 1.223063867482    -1.530410584825    -0.243491125950\n",
    "    O                -0.414534335596    -1.638505160179     0.377481322124\n",
    "    H                -1.086606563218    -1.481629097791    -0.302673057926\n",
    "    H                -0.496166832469    -0.853568312395     0.936120264347\n",
    "    O                -2.243895804335    -0.047924230121    -1.085237431327\n",
    "    H                -3.197163055178     0.039720230017    -1.107188531747\n",
    "    H                -0.777303421514     1.838006282802     1.614357402995\n",
    "'''"
   ]
  },
  {
   "cell_type": "code",
   "execution_count": 37,
   "metadata": {},
   "outputs": [],
   "source": [
    "ch3oh_xyz ='''C                 0.741964933916     0.010920665036     0.000024437675\n",
    "    O                -0.674528191722    -0.047141542148    -0.000053676759\n",
    "    H                -1.021577773322     0.845691219101     0.000133758184\n",
    "    H                 1.125169842343     0.512990825971    -0.888963972862\n",
    "    H                 1.097404033083    -1.014140879059    -0.000355642164\n",
    "    H                 1.125094706522     0.512309796358     0.889429438634\n",
    "'''"
   ]
  },
  {
   "cell_type": "markdown",
   "metadata": {},
   "source": [
    "With these xyz we can now create a molecule object: "
   ]
  },
  {
   "cell_type": "code",
   "execution_count": 38,
   "metadata": {},
   "outputs": [],
   "source": [
    "mol_w5 = ptl.Molecule.from_data(w5_xyz)\n",
    "mol_ch3oh = ptl.Molecule.from_data(ch3oh_xyz)"
   ]
  },
  {
   "cell_type": "markdown",
   "metadata": {},
   "source": [
    "Now we can create an OptimizationDataset and add those molecules as initial molecules. First we create two collection one for adding small water clusters, and a second one"
   ]
  },
  {
   "cell_type": "code",
   "execution_count": 41,
   "metadata": {},
   "outputs": [
    {
     "data": {
      "text/plain": [
       "'1'"
      ]
     },
     "execution_count": 41,
     "metadata": {},
     "output_type": "execute_result"
    }
   ],
   "source": [
    "ds_w5 = ptl.collections.OptimizationDataset(\"pentamer_collection\", client=client)\n",
    "ds.save()"
   ]
  },
  {
   "cell_type": "markdown",
   "metadata": {},
   "source": [
    "It is important to save afer you created the collection. You can check if the OptimiazationDataset was created correctly:"
   ]
  },
  {
   "cell_type": "code",
   "execution_count": 42,
   "metadata": {},
   "outputs": [
    {
     "data": {
      "text/html": [
       "<div>\n",
       "<style scoped>\n",
       "    .dataframe tbody tr th:only-of-type {\n",
       "        vertical-align: middle;\n",
       "    }\n",
       "\n",
       "    .dataframe tbody tr th {\n",
       "        vertical-align: top;\n",
       "    }\n",
       "\n",
       "    .dataframe thead th {\n",
       "        text-align: right;\n",
       "    }\n",
       "</style>\n",
       "<table border=\"1\" class=\"dataframe\">\n",
       "  <thead>\n",
       "    <tr style=\"text-align: right;\">\n",
       "      <th></th>\n",
       "      <th></th>\n",
       "      <th>tagline</th>\n",
       "    </tr>\n",
       "    <tr>\n",
       "      <th>collection</th>\n",
       "      <th>name</th>\n",
       "      <th></th>\n",
       "    </tr>\n",
       "  </thead>\n",
       "  <tbody>\n",
       "    <tr>\n",
       "      <th>OptimizationDataset</th>\n",
       "      <th>pentamer_collection</th>\n",
       "      <td>None</td>\n",
       "    </tr>\n",
       "  </tbody>\n",
       "</table>\n",
       "</div>"
      ],
      "text/plain": [
       "                                        tagline\n",
       "collection          name                       \n",
       "OptimizationDataset pentamer_collection    None"
      ]
     },
     "execution_count": 42,
     "metadata": {},
     "output_type": "execute_result"
    }
   ],
   "source": [
    "client.list_collections()"
   ]
  },
  {
   "cell_type": "markdown",
   "metadata": {},
   "source": [
    "Finally we add the molecule to the OptimizationDataSet called `pentamer_collection`"
   ]
  },
  {
   "cell_type": "code",
   "execution_count": 44,
   "metadata": {},
   "outputs": [],
   "source": [
    "ds.add_entry(\"w5_1\", mol_w5)"
   ]
  },
  {
   "cell_type": "markdown",
   "metadata": {},
   "source": [
    "The same can be done for the ch3oh molecule:"
   ]
  },
  {
   "cell_type": "code",
   "execution_count": 45,
   "metadata": {},
   "outputs": [
    {
     "data": {
      "text/plain": [
       "'2'"
      ]
     },
     "execution_count": 45,
     "metadata": {},
     "output_type": "execute_result"
    }
   ],
   "source": [
    "ds_sm = ptl.collections.OptimizationDataset(\"small_molecule\", client=client)\n",
    "ds.save()"
   ]
  },
  {
   "cell_type": "code",
   "execution_count": 46,
   "metadata": {},
   "outputs": [],
   "source": [
    "ds.add_entry(\"ch3oh\", mol_ch3oh)"
   ]
  },
  {
   "cell_type": "markdown",
   "metadata": {},
   "source": [
    "Now you cloud add more isomers of the water pentamer or other small molecules to that same collection. These collections are the starting point for the sampling procedure since the `launch_sampling` commandline tool\n",
    "draws  molecules from these collections and samples all the molecules that are present in the collection with the water clusters. Their name must be specified as one of the options of the program. \n",
    "In order to optimzize the collection you will need to start a `qcfractal-manager` that handles the computations\n",
    "submited to the queue. For more details about how to start a manager check out the [QCFractal manager documentation](http://docs.qcarchive.molssi.org/projects/QCFractal/en/stable/managers.html)"
   ]
  },
  {
   "cell_type": "code",
   "execution_count": null,
   "metadata": {},
   "outputs": [],
   "source": []
  }
 ],
 "metadata": {
  "kernelspec": {
   "display_name": "Python 3",
   "language": "python",
   "name": "python3"
  },
  "language_info": {
   "codemirror_mode": {
    "name": "ipython",
    "version": 3
   },
   "file_extension": ".py",
   "mimetype": "text/x-python",
   "name": "python",
   "nbconvert_exporter": "python",
   "pygments_lexer": "ipython3",
   "version": "3.7.9"
  }
 },
 "nbformat": 4,
 "nbformat_minor": 4
}
