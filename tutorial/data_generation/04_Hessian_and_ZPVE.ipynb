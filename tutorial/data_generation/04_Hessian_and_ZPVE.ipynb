{
 "cells": [
  {
   "cell_type": "markdown",
   "metadata": {},
   "source": [
    "# 4. ZPVE Correction and Final Binding Energy Distribution"
   ]
  },
  {
   "cell_type": "markdown",
   "metadata": {},
   "source": [
    "At this point we have submitted all necessary computations to construct a binding energy distribution on the \n",
    "ice-mantle model comprising five W12 cluster. So now we can proceed to put it all together and build the final binding energy distribution!  \n",
    "\n",
    "First we need to process the Hessian matrices to calculate the ZPVE. For this purpose we will use a modified version of the Psi4 library for harmonic analysis.  Therefore to be able to use it we need to install Psi4 first on the computer where you will be running this jupyter notebook (Note that this process does not require much processing power. All the heavy lifting has already been done!). Instructions on how to install Psi4 using conda can be found on the [Psi4 webpage](https://psicode.org/installs/v15/). So first we will load Psi4 as a python module and also import the modifed vibrational analysis function from beep."
   ]
  },
  {
   "cell_type": "code",
   "execution_count": 1,
   "metadata": {},
   "outputs": [],
   "source": [
    "import psi4\n",
    "from beep.be_tools import zpve_correction"
   ]
  },
  {
   "cell_type": "markdown",
   "metadata": {},
   "source": [
    "First we need to call the client and  the name of the `ReactionDataset` that contains the stoichiometry information and the binding energy values. Since we computed the Hessian at the HF-3C/Minix geometry we need to specify that in the name of the `ReactionDataset`"
   ]
  },
  {
   "cell_type": "code",
   "execution_count": 2,
   "metadata": {},
   "outputs": [],
   "source": [
    "import qcfractal.interface as ptl\n",
    "client = ptl.FractalClient(address=\"localhost:7777\", verify=False, username='', password='')\n",
    "\n",
    "molecule  = \"ch3oh\"\n",
    "cluster = \"4\"\n",
    "name_opt = molecule+'_W12_'+ cluster\n",
    "name_be = 'be_'+name_opt+'_hf3c'\n",
    "\n",
    "opt_method = 'hf3c_minix'\n",
    "be_method = 'B3LYP-D3BJ'"
   ]
  },
  {
   "cell_type": "markdown",
   "metadata": {},
   "source": [
    "Now we can retrieve the ZPVE correction using the `zpve_correction` method contained in be_tools. It returns \n",
    "a Pandas DataFrame with the non corrected, ZPVE corrected binding energies and the ZPVE correction, a list with linear fit parameters and a plot with the linear fit parameters. "
   ]
  },
  {
   "cell_type": "code",
   "execution_count": null,
   "metadata": {},
   "outputs": [],
   "source": [
    "df_zpve_corr, fit_data, fig =  zpve_correction(name_be, be_method, opt_method, client=client)"
   ]
  },
  {
   "cell_type": "markdown",
   "metadata": {},
   "source": [
    "Next we  in concatenate the DataFrames containing the binding energies bound to the 5 water clusters and correct the values with the linear model we just obtained. "
   ]
  },
  {
   "cell_type": "code",
   "execution_count": null,
   "metadata": {},
   "outputs": [],
   "source": [
    "# Querying the database and storing binding energy results in a pandas dataframe (df_be): \n",
    "\n",
    "ds_be_list =[]\n",
    "\n",
    "for i in range(1,6):\n",
    "    ds_be = client.get_collection(\"ReactionDataset\", 'be_'+ molecule +'_W12_'+\"%02d\" %i+'_'+lot_opt[molecule].split(\"_\")[0])  \n",
    "    val = ds_be.get_values(stoich='default', method=be_method)\n",
    "    ds_be_list.append(val)\n",
    "    print(\"Frame {}: Structures added to the E_b distribution: {} \".format(str(i), len(val)))\n",
    "\n",
    "df_be = pd.concat(ds_be_list)\n",
    "print(\"Total number of structures in the E_b distribution: {} \".format(len(df_be)))"
   ]
  },
  {
   "cell_type": "markdown",
   "metadata": {},
   "source": [
    "Finally we have a BE distribution  that we can convert  to Kelvin using QCElemental conversion factors and  visualize the resulting distribution as a histogram:"
   ]
  },
  {
   "cell_type": "code",
   "execution_count": null,
   "metadata": {},
   "outputs": [],
   "source": [
    "import qcelemental as qcel\n",
    "\n",
    "v_K = -be_values * qcel.constants.conversion_factor(\"kcal/mol\", 'K')\n",
    "v_K = v_K[v_K > 0]\n",
    "\n",
    "nbins = 12\n",
    "fig = plt.figure(figsize=(8,4))\n",
    "plt.hist(v_K, bins=nbins)\n",
    "plt.xlim([0, 7000])\n",
    "plt.xlabel('$E_b$ / $K$ ', size = 15)\n",
    "plt.ylabel('frequency number',size = 15)"
   ]
  }
 ],
 "metadata": {
  "kernelspec": {
   "display_name": "Python 3 (ipykernel)",
   "language": "python",
   "name": "python3"
  },
  "language_info": {
   "codemirror_mode": {
    "name": "ipython",
    "version": 3
   },
   "file_extension": ".py",
   "mimetype": "text/x-python",
   "name": "python",
   "nbconvert_exporter": "python",
   "pygments_lexer": "ipython3",
   "version": "3.9.7"
  }
 },
 "nbformat": 4,
 "nbformat_minor": 4
}
