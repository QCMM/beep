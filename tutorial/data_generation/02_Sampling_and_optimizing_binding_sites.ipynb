{
 "cells": [
  {
   "cell_type": "markdown",
   "metadata": {},
   "source": [
    "## Sampling and optimizing binding sites on a set of water clusters\n"
   ]
  },
  {
   "cell_type": "markdown",
   "metadata": {},
   "source": [
    "This tutorial will explain to you the procedure to compute a BE energy distribution on a amorphized set \n",
    "of water clusters. In the previous tutorial we learned how to create a OptimizationDatase. For this tutorial we assume that you already learned how to set up a [QCFractal server](http://docs.qcarchive.molssi.org/projects/QCFractal/en/stable/setup_server.html) and spin up a [QCFractal manager](http://docs.qcarchive.molssi.org/projects/QCFractal/en/stable/managers.html) on your server. The same instructions are valid if you want to contribute to the BEEP database, the only thing that changes is the URL of the server. \n",
    "\n",
    "So at this point you have already created a collection with a set of amporphised water clusters. We will use the set consisting of 12 water molecules constructed in the previous tutorial. You also have an OptimizationDataset which contains the optimized geometry of the small molecule you want to sample, for this example we will use methanol.\n",
    "\n",
    "The total procedure consists of three steps, **sampling the water clusters**, **computing the BSSE corrected binding energy for each unique binding site** and **computing the Hessian** for the binding site of one of the sampled clusters to obtain a zero-point vibrational energy correction for the binding energy calculation. For each one of these three steps there is a dedicated CLI tool. \n",
    "\n",
    "The first step is to sample the surface of the water clusters that span the model surface. With this purpose, `launch_sampling` creates two OptimizationDataSets:  One that contains initial sampled structures (with the prefix *pre*) and a second one where the unique optimized structures are stored after the initial optimization at the sampling level of theory. After the initial optimization is done, the geometry of the binding sites is refined using a HF-3C/MINIX level of theory. Nonetheless the geometries can also be further optimized (e.g. at a DFT hybrid or meta-hyrbid GGA level of theory) as they are contained in a Dataset. \n",
    "For the sampling procedure we developed a option-specific command line interface `launch_sampling.py`. It can be found in the scripts folder of this module. "
   ]
  },
  {
   "cell_type": "markdown",
   "metadata": {},
   "source": [
    "```\n",
    "Usage: python launch_sampling.py [options]\n",
    "\n",
    "A command line interface to sample the surface of a set of water clusters (stored in a \n",
    "QCFractal DataSet)  with a small molecule or atom. This CLI is part\n",
    "of the Binding Energy Evaluation Platform (BEEP).\n",
    "\n",
    "\n",
    "Options:\n",
    "  -h, --help            show this help message and exit\n",
    "  --client_address=CLIENT_ADDRESS\n",
    "                        The URL address and port of the QCFractal server\n",
    "                        (default: localhost:7777)\n",
    "  --molecule=MOLECULE   The name of the molecule to be sampled (from a\n",
    "                        QCFractal OptimizationDataSet collection)\n",
    "  --surface_model_collection=SURFACE_MODEL_COLLECTION\n",
    "                        The name of the collection with the set of water\n",
    "                        clusters (dafault: ASW_22)\n",
    "  --small_molecule_collection=SMALL_MOLECULE_COLLECTION\n",
    "                        The name of the collection containing molecules or\n",
    "                        radicals (dafault: Small_molecules)\n",
    "  --molecules_per_round=MOLECULE_PER_ROUND\n",
    "                        Number of molecules to be optimized each round\n",
    "                        (Default = 10)\n",
    "  --sampling_shell=SAMPLING_SHELL\n",
    "                        The shell size of sampling space (Default = 1.5\n",
    "                        Angstrom)\n",
    "  --maximal_binding_sites=MAXIMAL_BINDING_SITES\n",
    "                        The maximal number of binding sites per cluster\n",
    "                        (default: 21)\n",
    "  -l LEVEL_OF_THEORY, --level_of_theory=LEVEL_OF_THEORY\n",
    "                        The level of theory in the format: method_basis\n",
    "                        (default: blyp_def2-svp)\n",
    "  --refinement_level_of_theory=R_LEVEL_OF_THEORY\n",
    "                        The level of theory for geometry refinement in the\n",
    "                        format: method_basis (default: hf3c_minix)\n",
    "  --rmsd_value=RMSD_VAL\n",
    "                        Rmsd geometrical criteria, all structure below this\n",
    "                        value will not be considered as unique. (default: 0.40\n",
    "                        angstrom)\n",
    "  --rmsd_symmetry       Consider the molecular symmetry for the rmsd\n",
    "                        calculation\n",
    "  -p PROGRAM, --program=PROGRAM\n",
    "                        The program to use for this calculation (default:\n",
    "                        psi4)\n",
    "  -k KEYWORD_ID, --keyword_id=KEYWORD_ID\n",
    "                        ID of the QC keywords for the OptimizationDataSet\n",
    "                        specification (default: None)\n",
    "  --print_out           Print an output\n",
    "\n",
    "\n",
    "```"
   ]
  },
  {
   "cell_type": "markdown",
   "metadata": {},
   "source": [
    "The `SURFACE_MODEL_COLLECTION` refers to the collection \n",
    "that contains the set of clusters that span the surface model, in our example there are three water clusters \n",
    "of 12 molecules each in the DataSet collection. \n",
    "\n",
    "The `SMALL_MOLECULE_COLLECTION` options refers to the collection that contains all the small molecules. \n",
    "\n",
    "The `SAMPLING_SHELL` referes to the width of the sampling shell around the cluster. If this number is too large \n",
    "it is possible that the molecule will take to long to converge to a binding site during the optimization\n",
    "\n",
    "**IMPORTANT**: Before running `launch_sampling` you need to spin up two qcfractal-managers, one with a `tag=sampling` and a second with a `tag=refinement` . This module contains two examples of qcfractal-managers running using dask and slurm. For more examples and options check out  [QCFractal manager documentation](http://docs.qcarchive.molssi.org/projects/QCFractal/en/stable/managers.html)"
   ]
  },
  {
   "cell_type": "markdown",
   "metadata": {},
   "source": [
    "Finally you can check out the progress of the sampling prodecure by querying the OptimizationDataset asocciated \n",
    "to the sampling prodecure. "
   ]
  },
  {
   "cell_type": "code",
   "execution_count": null,
   "metadata": {},
   "outputs": [],
   "source": [
    "import qcfractal.interface as ptl\n",
    "\n",
    "client = ptl.FractalClient(address=\"localhost:7777\", verify=False)\n",
    "client.list_collections()"
   ]
  },
  {
   "cell_type": "markdown",
   "metadata": {},
   "source": [
    "The naming convention used in BEEP is first there is the name of the molecule to be sampled then the \n",
    "name of the water cluster and number of the water cluster unit within the sets of clusters. Therefore in the example of methanol, if we  want the binding sites of the first water cluster that was sampled we need to retrieve the OptimizationDataset of `ch3oh_w12_1`."
   ]
  },
  {
   "cell_type": "code",
   "execution_count": null,
   "metadata": {},
   "outputs": [],
   "source": [
    "ds_opt = client.get_collection(\"OptimizationDataset\", \"ch3oh_w12_1\")\n",
    "ds_opt.status()"
   ]
  }
 ],
 "metadata": {
  "kernelspec": {
   "display_name": "Python 3",
   "language": "python",
   "name": "python3"
  },
  "language_info": {
   "codemirror_mode": {
    "name": "ipython",
    "version": 3
   },
   "file_extension": ".py",
   "mimetype": "text/x-python",
   "name": "python",
   "nbconvert_exporter": "python",
   "pygments_lexer": "ipython3",
   "version": "3.7.4"
  }
 },
 "nbformat": 4,
 "nbformat_minor": 5
}
