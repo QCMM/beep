{
 "cells": [
  {
   "cell_type": "markdown",
   "id": "4d68e8c8",
   "metadata": {},
   "source": [
    "## Sampling and optimizing binding sites on a set of water clusters\n",
    "\n",
    "\n",
    "```Prerequisite: qcfractal, psi4, geometric```"
   ]
  },
  {
   "cell_type": "markdown",
   "id": "c07ce0e9",
   "metadata": {},
   "source": [
    "This tutorial will explain to you the procedure to compute a BE energy distribution on a amorphized set \n",
    "of water clusters. In the previous tutorial we learned how to create a OptimizationDatase. For this tutorial we assume that you already learned how to set up a [QCFractal server](http://docs.qcarchive.molssi.org/projects/QCFractal/en/stable/setup_server.html) and spin up a [QCFractal manager](http://docs.qcarchive.molssi.org/projects/QCFractal/en/stable/managers.html) on your server. The same instructions are valid if you want to contribute to the BEEP database, the only thing that changes is the URL of the server. \n",
    "\n",
    "So at this point you have already created a collection with a set of amporphised water clusters. We will use the set consisting of 12 water molecules constructed in the previous tutorial."
   ]
  },
  {
   "cell_type": "markdown",
   "id": "cc4bb430",
   "metadata": {},
   "source": [
    "Before sampling the cluster, the geometry of the water cluster and in this example the methanol molecule to be sampled need to be optimized. For this pruprose we need to spin up a simple qcfractal-manager called basic.yaml which is contained in qcfractal_manager folder in this repository. Simply write in a terminal whithin your qcfractal enviornment `qcfractal-manager -c basic.yaml --verify False -v`. You can also use nohup to run it in the background. Once the manager is running we can send the optimizations:"
   ]
  },
  {
   "cell_type": "code",
   "execution_count": 58,
   "id": "8de50266",
   "metadata": {},
   "outputs": [
    {
     "data": {
      "text/html": [
       "<div>\n",
       "<style scoped>\n",
       "    .dataframe tbody tr th:only-of-type {\n",
       "        vertical-align: middle;\n",
       "    }\n",
       "\n",
       "    .dataframe tbody tr th {\n",
       "        vertical-align: top;\n",
       "    }\n",
       "\n",
       "    .dataframe thead th {\n",
       "        text-align: right;\n",
       "    }\n",
       "</style>\n",
       "<table border=\"1\" class=\"dataframe\">\n",
       "  <thead>\n",
       "    <tr style=\"text-align: right;\">\n",
       "      <th></th>\n",
       "      <th></th>\n",
       "      <th>tagline</th>\n",
       "    </tr>\n",
       "    <tr>\n",
       "      <th>collection</th>\n",
       "      <th>name</th>\n",
       "      <th></th>\n",
       "    </tr>\n",
       "  </thead>\n",
       "  <tbody>\n",
       "    <tr>\n",
       "      <th rowspan=\"4\" valign=\"top\">OptimizationDataset</th>\n",
       "      <th>pentamer_collection</th>\n",
       "      <td>None</td>\n",
       "    </tr>\n",
       "    <tr>\n",
       "      <th>pre_ch3oh_w12_1</th>\n",
       "      <td>None</td>\n",
       "    </tr>\n",
       "    <tr>\n",
       "      <th>small_molecules</th>\n",
       "      <td>None</td>\n",
       "    </tr>\n",
       "    <tr>\n",
       "      <th>water_12</th>\n",
       "      <td>None</td>\n",
       "    </tr>\n",
       "  </tbody>\n",
       "</table>\n",
       "</div>"
      ],
      "text/plain": [
       "                                        tagline\n",
       "collection          name                       \n",
       "OptimizationDataset pentamer_collection    None\n",
       "                    pre_ch3oh_w12_1        None\n",
       "                    small_molecules        None\n",
       "                    water_12               None"
      ]
     },
     "execution_count": 58,
     "metadata": {},
     "output_type": "execute_result"
    }
   ],
   "source": [
    "import qcfractal.interface as ptl\n",
    "client = ptl.FractalClient(address=\"localhost:7777\", verify=False)\n",
    "client.list_collections()"
   ]
  },
  {
   "cell_type": "code",
   "execution_count": 39,
   "id": "4794cd50",
   "metadata": {},
   "outputs": [],
   "source": [
    "ds_w12= client.get_collection(\"OptimizationDataset\", \"water_12\")\n",
    "ds_sm  = client.get_collection(\"OptimizationDataset\", \"small_molecules\")"
   ]
  },
  {
   "cell_type": "markdown",
   "id": "8f8419d5",
   "metadata": {},
   "source": [
    "Once the collections are loaded we can add a specification with the details of the optimization in form of a\n",
    "python dictionary:"
   ]
  },
  {
   "cell_type": "code",
   "execution_count": 9,
   "id": "eeff24a1",
   "metadata": {},
   "outputs": [
    {
     "data": {
      "text/plain": [
       "'2'"
      ]
     },
     "execution_count": 9,
     "metadata": {},
     "output_type": "execute_result"
    }
   ],
   "source": [
    "spec = add_spec = {'name': 'blyp-d3bj_def2-svp',\n",
    "        'description': 'Geometric + Psi4/blyp-d3bj/def2-svp.',\n",
    "        'optimization_spec': {'program': 'geometric', 'keywords': None},\n",
    "        'qc_spec': {'driver': 'gradient',\n",
    "        'method': 'blyp-d3bj',\n",
    "        'basis': 'def2-svp',\n",
    "        'keywords': None,\n",
    "        'program': 'psi4'}}\n",
    "ds_w12.add_specification(**add_spec,overwrite=True)\n",
    "ds_w12.save()\n",
    "ds_sm.add_specification(**add_spec,overwrite=True)\n",
    "ds_sm.save()"
   ]
  },
  {
   "cell_type": "markdown",
   "id": "8cd8ab10",
   "metadata": {},
   "source": [
    "Finally we send the optimization to the manager we started with the tag basic."
   ]
  },
  {
   "cell_type": "code",
   "execution_count": 10,
   "id": "b0c2030b",
   "metadata": {},
   "outputs": [
    {
     "data": {
      "text/plain": [
       "5"
      ]
     },
     "execution_count": 10,
     "metadata": {},
     "output_type": "execute_result"
    }
   ],
   "source": [
    "ds_w12.compute('blyp-d3bj_def2-svp', tag='basic')"
   ]
  },
  {
   "cell_type": "code",
   "execution_count": 11,
   "id": "ad278e4e",
   "metadata": {},
   "outputs": [
    {
     "data": {
      "text/plain": [
       "1"
      ]
     },
     "execution_count": 11,
     "metadata": {},
     "output_type": "execute_result"
    }
   ],
   "source": [
    "ds_sm.compute('blyp-d3bj_def2-svp', tag='basic')"
   ]
  },
  {
   "cell_type": "markdown",
   "id": "575ee89f",
   "metadata": {},
   "source": [
    "We can check the progress of the optimitaztion with the `status()` method:"
   ]
  },
  {
   "cell_type": "code",
   "execution_count": 32,
   "id": "482dab76",
   "metadata": {},
   "outputs": [
    {
     "data": {
      "text/html": [
       "<div>\n",
       "<style scoped>\n",
       "    .dataframe tbody tr th:only-of-type {\n",
       "        vertical-align: middle;\n",
       "    }\n",
       "\n",
       "    .dataframe tbody tr th {\n",
       "        vertical-align: top;\n",
       "    }\n",
       "\n",
       "    .dataframe thead th {\n",
       "        text-align: right;\n",
       "    }\n",
       "</style>\n",
       "<table border=\"1\" class=\"dataframe\">\n",
       "  <thead>\n",
       "    <tr style=\"text-align: right;\">\n",
       "      <th></th>\n",
       "      <th>blyp-d3bj_def2-svp</th>\n",
       "    </tr>\n",
       "  </thead>\n",
       "  <tbody>\n",
       "    <tr>\n",
       "      <th>ch3oh</th>\n",
       "      <td>COMPLETE</td>\n",
       "    </tr>\n",
       "  </tbody>\n",
       "</table>\n",
       "</div>"
      ],
      "text/plain": [
       "      blyp-d3bj_def2-svp\n",
       "ch3oh           COMPLETE"
      ]
     },
     "execution_count": 32,
     "metadata": {},
     "output_type": "execute_result"
    }
   ],
   "source": [
    "ds_sm.status(collapse = False)"
   ]
  },
  {
   "cell_type": "code",
   "execution_count": 40,
   "id": "b998597a",
   "metadata": {},
   "outputs": [
    {
     "data": {
      "text/html": [
       "<div>\n",
       "<style scoped>\n",
       "    .dataframe tbody tr th:only-of-type {\n",
       "        vertical-align: middle;\n",
       "    }\n",
       "\n",
       "    .dataframe tbody tr th {\n",
       "        vertical-align: top;\n",
       "    }\n",
       "\n",
       "    .dataframe thead th {\n",
       "        text-align: right;\n",
       "    }\n",
       "</style>\n",
       "<table border=\"1\" class=\"dataframe\">\n",
       "  <thead>\n",
       "    <tr style=\"text-align: right;\">\n",
       "      <th></th>\n",
       "      <th>blyp-d3bj_def2-svp</th>\n",
       "    </tr>\n",
       "  </thead>\n",
       "  <tbody>\n",
       "    <tr>\n",
       "      <th>w12_1</th>\n",
       "      <td>COMPLETE</td>\n",
       "    </tr>\n",
       "    <tr>\n",
       "      <th>w12_2</th>\n",
       "      <td>COMPLETE</td>\n",
       "    </tr>\n",
       "    <tr>\n",
       "      <th>w12_3</th>\n",
       "      <td>COMPLETE</td>\n",
       "    </tr>\n",
       "    <tr>\n",
       "      <th>w12_4</th>\n",
       "      <td>COMPLETE</td>\n",
       "    </tr>\n",
       "    <tr>\n",
       "      <th>w12_5</th>\n",
       "      <td>INCOMPLETE</td>\n",
       "    </tr>\n",
       "  </tbody>\n",
       "</table>\n",
       "</div>"
      ],
      "text/plain": [
       "      blyp-d3bj_def2-svp\n",
       "w12_1           COMPLETE\n",
       "w12_2           COMPLETE\n",
       "w12_3           COMPLETE\n",
       "w12_4           COMPLETE\n",
       "w12_5         INCOMPLETE"
      ]
     },
     "execution_count": 40,
     "metadata": {},
     "output_type": "execute_result"
    }
   ],
   "source": [
    "ds_w12.status(collapse = False)"
   ]
  },
  {
   "cell_type": "code",
   "execution_count": 57,
   "id": "a484378f",
   "metadata": {},
   "outputs": [],
   "source": [
    "client.delete_collection(\"OptimizationDataset\", 'ch3oh_w12_1')\n",
    "#ds_w12.get_record(wat_cluster, opt_lot).get_final_molecule()"
   ]
  },
  {
   "cell_type": "markdown",
   "id": "b38e38af",
   "metadata": {},
   "source": [
    "Once all initial molecules are fully optimized, we can start the sampling procedure. It consists of three steps, **sampling the water clusters**, **computing the BSSE corrected binding energy for each unique binding site** and **computing the Hessian** for the binding site of one of the sampled clusters to obtain a zero-point vibrational energy correction for the binding energy calculation. For each one of these three steps there is a dedicated CLI tool. In this tutorial we will show how to use the first CLI for the sampling procedure.\n",
    "\n",
    "The first step is to sample the surface of the water clusters that span the model surface. With this purpose, `launch_sampling` creates two OptimizationDataSets:  One that contains initial sampled structures (with the prefix *pre*) and a second one where the unique optimized structures are stored after the initial optimization at the sampling level of theory. After the initial optimization is done, the geometry of the binding sites is refined using a HF-3C/MINIX level of theory. Nonetheless the geometries can also be further optimized (e.g. at a DFT hybrid or meta-hyrbid GGA level of theory) as they are contained in a Dataset. \n",
    "For the sampling procedure we developed a option-specific command line interface `launch_sampling.py`. It can be found in the scripts folder of this module. "
   ]
  },
  {
   "cell_type": "markdown",
   "id": "60feec12",
   "metadata": {},
   "source": [
    "```\n",
    "Usage: python launch_sampling.py [options]\n",
    "\n",
    "A command line interface to sample the surface of a set of water clusters (stored in a \n",
    "QCFractal DataSet)  with a small molecule or atom. This CLI is part\n",
    "of the Binding Energy Evaluation Platform (BEEP).\n",
    "\n",
    "\n",
    "Options:\n",
    "  -h, --help            show this help message and exit\n",
    "  --client_address=CLIENT_ADDRESS\n",
    "                        The URL address and port of the QCFractal server\n",
    "                        (default: localhost:7777)\n",
    "  --molecule=MOLECULE   The name of the molecule to be sampled (from a\n",
    "                        QCFractal OptimizationDataSet collection)\n",
    "  --surface_model_collection=SURFACE_MODEL_COLLECTION\n",
    "                        The name of the collection with the set of water\n",
    "                        clusters (dafault: ASW_22)\n",
    "  --small_molecule_collection=SMALL_MOLECULE_COLLECTION\n",
    "                        The name of the collection containing molecules or\n",
    "                        radicals (dafault: Small_molecules)\n",
    "  --molecules_per_round=MOLECULE_PER_ROUND\n",
    "                        Number of molecules to be optimized each round\n",
    "                        (Default = 10)\n",
    "  --sampling_shell=SAMPLING_SHELL\n",
    "                        The shell size of sampling space (Default = 1.5\n",
    "                        Angstrom)\n",
    "  --maximal_binding_sites=MAXIMAL_BINDING_SITES\n",
    "                        The maximal number of binding sites per cluster\n",
    "                        (default: 21)\n",
    "  -l LEVEL_OF_THEORY, --level_of_theory=LEVEL_OF_THEORY\n",
    "                        The level of theory in the format: method_basis\n",
    "                        (default: blyp_def2-svp)\n",
    "  --refinement_level_of_theory=R_LEVEL_OF_THEORY\n",
    "                        The level of theory for geometry refinement in the\n",
    "                        format: method_basis (default: hf3c_minix)\n",
    "  --rmsd_value=RMSD_VAL\n",
    "                        Rmsd geometrical criteria, all structure below this\n",
    "                        value will not be considered as unique. (default: 0.40\n",
    "                        angstrom)\n",
    "  --rmsd_symmetry       Consider the molecular symmetry for the rmsd\n",
    "                        calculation\n",
    "  -p PROGRAM, --program=PROGRAM\n",
    "                        The program to use for this calculation (default:\n",
    "                        psi4)\n",
    "  -k KEYWORD_ID, --keyword_id=KEYWORD_ID\n",
    "                        ID of the QC keywords for the OptimizationDataSet\n",
    "                        specification (default: None)\n",
    "  --print_out           Print an output\n",
    "\n",
    "\n",
    "```"
   ]
  },
  {
   "cell_type": "markdown",
   "id": "facfdf3d",
   "metadata": {},
   "source": [
    "The `SURFACE_MODEL_COLLECTION` refers to the collection \n",
    "that contains the set of clusters that span the surface model, in our example there are three water clusters \n",
    "of 12 molecules each in the DataSet collection. \n",
    "\n",
    "The `SMALL_MOLECULE_COLLECTION` options refers to the collection that contains all the small molecules. \n",
    "\n",
    "The `SAMPLING_SHELL` referes to the width of the sampling shell around the cluster. If this number is too large \n",
    "it is possible that the molecule will take to long to converge to a binding site during the optimization\n",
    "\n",
    "**IMPORTANT**: Before running `launch_sampling` you need to spin up two qcfractal-managers, one with a `tag=sampling` and a second with a `tag=refinement` . This module contains two examples of qcfractal-managers running using dask and slurm. For more examples and options check out  [QCFractal manager documentation](http://docs.qcarchive.molssi.org/projects/QCFractal/en/stable/managers.html)"
   ]
  },
  {
   "cell_type": "markdown",
   "id": "cd344aa9",
   "metadata": {},
   "source": [
    "Finally you can check out the progress of the sampling prodecure by querying the OptimizationDataset asocciated \n",
    "to the sampling prodecure. "
   ]
  },
  {
   "cell_type": "code",
   "execution_count": 59,
   "id": "c397db36",
   "metadata": {},
   "outputs": [
    {
     "data": {
      "text/html": [
       "<div>\n",
       "<style scoped>\n",
       "    .dataframe tbody tr th:only-of-type {\n",
       "        vertical-align: middle;\n",
       "    }\n",
       "\n",
       "    .dataframe tbody tr th {\n",
       "        vertical-align: top;\n",
       "    }\n",
       "\n",
       "    .dataframe thead th {\n",
       "        text-align: right;\n",
       "    }\n",
       "</style>\n",
       "<table border=\"1\" class=\"dataframe\">\n",
       "  <thead>\n",
       "    <tr style=\"text-align: right;\">\n",
       "      <th></th>\n",
       "      <th></th>\n",
       "      <th>tagline</th>\n",
       "    </tr>\n",
       "    <tr>\n",
       "      <th>collection</th>\n",
       "      <th>name</th>\n",
       "      <th></th>\n",
       "    </tr>\n",
       "  </thead>\n",
       "  <tbody>\n",
       "    <tr>\n",
       "      <th rowspan=\"9\" valign=\"top\">OptimizationDataset</th>\n",
       "      <th>ch3oh_w12_1</th>\n",
       "      <td>None</td>\n",
       "    </tr>\n",
       "    <tr>\n",
       "      <th>ch3oh_w12_2</th>\n",
       "      <td>None</td>\n",
       "    </tr>\n",
       "    <tr>\n",
       "      <th>ch3oh_w12_3</th>\n",
       "      <td>None</td>\n",
       "    </tr>\n",
       "    <tr>\n",
       "      <th>pentamer_collection</th>\n",
       "      <td>None</td>\n",
       "    </tr>\n",
       "    <tr>\n",
       "      <th>pre_ch3oh_w12_1</th>\n",
       "      <td>None</td>\n",
       "    </tr>\n",
       "    <tr>\n",
       "      <th>pre_ch3oh_w12_2</th>\n",
       "      <td>None</td>\n",
       "    </tr>\n",
       "    <tr>\n",
       "      <th>pre_ch3oh_w12_3</th>\n",
       "      <td>None</td>\n",
       "    </tr>\n",
       "    <tr>\n",
       "      <th>small_molecules</th>\n",
       "      <td>None</td>\n",
       "    </tr>\n",
       "    <tr>\n",
       "      <th>water_12</th>\n",
       "      <td>None</td>\n",
       "    </tr>\n",
       "  </tbody>\n",
       "</table>\n",
       "</div>"
      ],
      "text/plain": [
       "                                        tagline\n",
       "collection          name                       \n",
       "OptimizationDataset ch3oh_w12_1            None\n",
       "                    ch3oh_w12_2            None\n",
       "                    ch3oh_w12_3            None\n",
       "                    pentamer_collection    None\n",
       "                    pre_ch3oh_w12_1        None\n",
       "                    pre_ch3oh_w12_2        None\n",
       "                    pre_ch3oh_w12_3        None\n",
       "                    small_molecules        None\n",
       "                    water_12               None"
      ]
     },
     "execution_count": 59,
     "metadata": {},
     "output_type": "execute_result"
    }
   ],
   "source": [
    "import qcfractal.interface as ptl\n",
    "\n",
    "client = ptl.FractalClient(address=\"localhost:7777\", verify=False)\n",
    "client.list_collections()"
   ]
  },
  {
   "cell_type": "markdown",
   "id": "d730da67",
   "metadata": {},
   "source": [
    "The naming convention used in BEEP is first there is the name of the molecule to be sampled then the \n",
    "name of the water cluster and number of the water cluster unit within the sets of clusters. Therefore in the example of methanol, if we  want the binding sites of the first water cluster that was sampled we need to retrieve the OptimizationDataset of `ch3oh_w12_1`."
   ]
  },
  {
   "cell_type": "code",
   "execution_count": 84,
   "id": "df5d9cdd",
   "metadata": {},
   "outputs": [
    {
     "ename": "KeyError",
     "evalue": "\"Collection 'OptimizationDataset:ch3oh_w12_1' not found.\"",
     "output_type": "error",
     "traceback": [
      "\u001b[0;31m---------------------------------------------------------------------------\u001b[0m",
      "\u001b[0;31mKeyError\u001b[0m                                  Traceback (most recent call last)",
      "\u001b[0;32m/tmp/ipykernel_5815/4032747921.py\u001b[0m in \u001b[0;36m<module>\u001b[0;34m\u001b[0m\n\u001b[0;32m----> 1\u001b[0;31m \u001b[0mds_opt\u001b[0m \u001b[0;34m=\u001b[0m \u001b[0mclient\u001b[0m\u001b[0;34m.\u001b[0m\u001b[0mget_collection\u001b[0m\u001b[0;34m(\u001b[0m\u001b[0;34m\"OptimizationDataset\"\u001b[0m\u001b[0;34m,\u001b[0m \u001b[0;34m\"ch3oh_w12_1\"\u001b[0m\u001b[0;34m)\u001b[0m\u001b[0;34m\u001b[0m\u001b[0;34m\u001b[0m\u001b[0m\n\u001b[0m\u001b[1;32m      2\u001b[0m \u001b[0mds_opt\u001b[0m\u001b[0;34m.\u001b[0m\u001b[0mstatus\u001b[0m\u001b[0;34m(\u001b[0m\u001b[0;34m)\u001b[0m\u001b[0;34m\u001b[0m\u001b[0;34m\u001b[0m\u001b[0m\n",
      "\u001b[0;32m~/.anaconda/envs/qcfractal/lib/python3.9/site-packages/qcfractal/interface/client.py\u001b[0m in \u001b[0;36mget_collection\u001b[0;34m(self, collection_type, name, full_return, include, exclude)\u001b[0m\n\u001b[1;32m    600\u001b[0m             \u001b[0;32mreturn\u001b[0m \u001b[0mcollection_factory\u001b[0m\u001b[0;34m(\u001b[0m\u001b[0mresponse\u001b[0m\u001b[0;34m.\u001b[0m\u001b[0mdata\u001b[0m\u001b[0;34m[\u001b[0m\u001b[0;36m0\u001b[0m\u001b[0;34m]\u001b[0m\u001b[0;34m,\u001b[0m \u001b[0mclient\u001b[0m\u001b[0;34m=\u001b[0m\u001b[0mself\u001b[0m\u001b[0;34m)\u001b[0m\u001b[0;34m\u001b[0m\u001b[0;34m\u001b[0m\u001b[0m\n\u001b[1;32m    601\u001b[0m         \u001b[0;32melse\u001b[0m\u001b[0;34m:\u001b[0m\u001b[0;34m\u001b[0m\u001b[0;34m\u001b[0m\u001b[0m\n\u001b[0;32m--> 602\u001b[0;31m             \u001b[0;32mraise\u001b[0m \u001b[0mKeyError\u001b[0m\u001b[0;34m(\u001b[0m\u001b[0;34m\"Collection '{}:{}' not found.\"\u001b[0m\u001b[0;34m.\u001b[0m\u001b[0mformat\u001b[0m\u001b[0;34m(\u001b[0m\u001b[0mcollection_type\u001b[0m\u001b[0;34m,\u001b[0m \u001b[0mname\u001b[0m\u001b[0;34m)\u001b[0m\u001b[0;34m)\u001b[0m\u001b[0;34m\u001b[0m\u001b[0;34m\u001b[0m\u001b[0m\n\u001b[0m\u001b[1;32m    603\u001b[0m \u001b[0;34m\u001b[0m\u001b[0m\n\u001b[1;32m    604\u001b[0m     def add_collection(\n",
      "\u001b[0;31mKeyError\u001b[0m: \"Collection 'OptimizationDataset:ch3oh_w12_1' not found.\""
     ]
    }
   ],
   "source": [
    "ds_opt = client.get_collection(\"OptimizationDataset\", \"ch3oh_w12_1\")\n",
    "ds_opt.status()"
   ]
  },
  {
   "cell_type": "code",
   "execution_count": null,
   "id": "7652221a",
   "metadata": {},
   "outputs": [],
   "source": []
  }
 ],
 "metadata": {
  "kernelspec": {
   "display_name": "Python 3 (ipykernel)",
   "language": "python",
   "name": "python3"
  },
  "language_info": {
   "codemirror_mode": {
    "name": "ipython",
    "version": 3
   },
   "file_extension": ".py",
   "mimetype": "text/x-python",
   "name": "python",
   "nbconvert_exporter": "python",
   "pygments_lexer": "ipython3",
   "version": "3.9.7"
  }
 },
 "nbformat": 4,
 "nbformat_minor": 5
}
