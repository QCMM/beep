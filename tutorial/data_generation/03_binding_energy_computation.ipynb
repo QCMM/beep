{
 "cells": [
  {
   "cell_type": "markdown",
   "metadata": {},
   "source": [
    "# 3. Binding energy computation\n",
    "\n",
    "At this point we have already sampled one or more amorphized water clusters that model a ice-grain mantel \n",
    "surface and are ready to compute the binding energy on those binding sites. For that purpose  \n",
    "we use a second CLI tool called `launch_energy.py`  that is contained in the scripts folder. The options for `launch_energy` are the following:"
   ]
  },
  {
   "cell_type": "markdown",
   "metadata": {},
   "source": [
    "```\n",
    "Usage: python launch_energy_new.py [options]\n",
    "\n",
    "A command line interface to compute the binding energy of a set of optimized binding sites\n",
    "on a set of water clusters (stored in a \n",
    "QCFractal DataSet). This CLI is part of the Binding Energy Evaluation Platform (BEEP).\n",
    "\n",
    "\n",
    "Options:\n",
    "  -h, --help            show this help message and exit\n",
    "  --cluster_collection=CLUSTER_COLLECTION\n",
    "                        The name of the collection with the water clusters\n",
    "                        (default: Water_22)\n",
    "  --small_mol_collection=SMALL_MOLECULE_COLLECTION\n",
    "                        The name of the collection with small molecules or\n",
    "                        radicals (default: Small_molecules)\n",
    "  --molecule=MOLECULE   The name of the molecule for the binding energy\n",
    "                        computation\n",
    "  --level_of_theory=LEVEL_OF_THEORY\n",
    "                        The level of theory for the binding energy computation\n",
    "                        in the format: method_basis (default:\n",
    "                        wpbe-d3bj_def2-tzvp)\n",
    "  --opt_level_of_theory=OPT_LOT\n",
    "                        The level of theory of for the optimization of the\n",
    "                        binding sites in the format: method_basis (default:\n",
    "                        hf3c_minix)\n",
    "  --keyword_id=KEYWORD_ID\n",
    "                        ID of the QCfractal for the single point computations\n",
    "                        keywords (default: None)\n",
    "  --hessian_compute=HESSIAN\n",
    "                        Computes the hessian for the molecules comprising the\n",
    "                        binding sites of model cluster X. If 0 is specified,\n",
    "                        no Hessian is computed (defualt = 1)\n",
    "  -p PROGRAM, --program=PROGRAM\n",
    "                        The program to use for this calculation (default:\n",
    "                        psi4)\n",
    "```"
   ]
  },
  {
   "cell_type": "markdown",
   "metadata": {},
   "source": [
    "Here it is important to note that you have to specify both the level of theory at  which you would like to do the binding energy computation and also the level of theory at which you optimized the different binding sites. Also note that the isolated  monomers have to be optimized at the same level of theory as the supermolecule. For example if  you want to compute the binding energy for binding sites optimized at a HF-3C/MINIX level of theory, the geometry of the  isolated water clusters and target molecules need to exist at that level of theory, in our  example we can compute them  for the water_12 set of clusters and the small molecule collection:\n",
    "\n",
    "\n",
    "\n",
    "\n"
   ]
  },
  {
   "cell_type": "code",
   "execution_count": 1,
   "metadata": {},
   "outputs": [],
   "source": [
    "import qcfractal.interface as ptl\n",
    "\n",
    "client = ptl.FractalClient(address=\"localhost:7777\", verify=False)"
   ]
  },
  {
   "cell_type": "code",
   "execution_count": 2,
   "metadata": {},
   "outputs": [],
   "source": [
    "ds_w12 = client.get_collection(\"OptimizationDataset\", \"water_12\")\n",
    "ds_sm = client.get_collection(\"OptimizationDataset\", \"small_molecules\")"
   ]
  },
  {
   "cell_type": "code",
   "execution_count": 3,
   "metadata": {},
   "outputs": [
    {
     "data": {
      "text/plain": [
       "'2'"
      ]
     },
     "execution_count": 3,
     "metadata": {},
     "output_type": "execute_result"
    }
   ],
   "source": [
    "spec = add_spec = {'name': 'hf3c_minix',\n",
    "        'description': 'Geometric + Psi4/hf3c/minix.',\n",
    "        'optimization_spec': {'program': 'geometric', 'keywords': None},\n",
    "        'qc_spec': {'driver': 'gradient',\n",
    "        'method': 'hf3c',\n",
    "        'basis': 'minix',\n",
    "        'keywords': None,\n",
    "        'program': 'psi4'}}\n",
    "ds_w12.add_specification(**add_spec,overwrite=True)\n",
    "ds_w12.save()\n",
    "ds_sm.add_specification(**add_spec,overwrite=True)\n",
    "ds_sm.save()"
   ]
  },
  {
   "cell_type": "code",
   "execution_count": 5,
   "metadata": {},
   "outputs": [
    {
     "data": {
      "text/plain": [
       "1"
      ]
     },
     "execution_count": 5,
     "metadata": {},
     "output_type": "execute_result"
    }
   ],
   "source": [
    "ds_sm.compute('hf3c_minix', tag='basic')"
   ]
  },
  {
   "cell_type": "code",
   "execution_count": 6,
   "metadata": {},
   "outputs": [
    {
     "data": {
      "text/plain": [
       "5"
      ]
     },
     "execution_count": 6,
     "metadata": {},
     "output_type": "execute_result"
    }
   ],
   "source": [
    "ds_w12.compute('hf3c_minix', tag='basic')"
   ]
  },
  {
   "cell_type": "code",
   "execution_count": 49,
   "metadata": {},
   "outputs": [],
   "source": [
    "ds_be = client.get_collection(\"ReactionDataset\", 'be_ch3oh_w12_2_hf3c')"
   ]
  },
  {
   "cell_type": "code",
   "execution_count": 47,
   "metadata": {},
   "outputs": [
    {
     "data": {
      "text/plain": [
       "[Molecule(name='CH28O13', formula='CH28O13', hash='da2fd7a')]"
      ]
     },
     "execution_count": 47,
     "metadata": {},
     "output_type": "execute_result"
    }
   ],
   "source": [
    "client.query_molecules(9133)"
   ]
  },
  {
   "cell_type": "code",
   "execution_count": 55,
   "metadata": {},
   "outputs": [],
   "source": [
    "df = ds_be.get_entries()"
   ]
  },
  {
   "cell_type": "code",
   "execution_count": 59,
   "metadata": {},
   "outputs": [
    {
     "data": {
      "text/plain": [
       "'8898'"
      ]
     },
     "execution_count": 59,
     "metadata": {},
     "output_type": "execute_result"
    }
   ],
   "source": [
    "df.loc[0].molecule"
   ]
  },
  {
   "cell_type": "code",
   "execution_count": 60,
   "metadata": {},
   "outputs": [
    {
     "data": {
      "text/html": [
       "<div>\n",
       "<style scoped>\n",
       "    .dataframe tbody tr th:only-of-type {\n",
       "        vertical-align: middle;\n",
       "    }\n",
       "\n",
       "    .dataframe tbody tr th {\n",
       "        vertical-align: top;\n",
       "    }\n",
       "\n",
       "    .dataframe thead th {\n",
       "        text-align: right;\n",
       "    }\n",
       "</style>\n",
       "<table border=\"1\" class=\"dataframe\">\n",
       "  <thead>\n",
       "    <tr style=\"text-align: right;\">\n",
       "      <th></th>\n",
       "      <th>name</th>\n",
       "      <th>stoichiometry</th>\n",
       "      <th>molecule</th>\n",
       "      <th>coefficient</th>\n",
       "    </tr>\n",
       "  </thead>\n",
       "  <tbody>\n",
       "    <tr>\n",
       "      <th>0</th>\n",
       "      <td>ch3oh_w12_2_0001</td>\n",
       "      <td>default</td>\n",
       "      <td>8898</td>\n",
       "      <td>1.0</td>\n",
       "    </tr>\n",
       "    <tr>\n",
       "      <th>1</th>\n",
       "      <td>ch3oh_w12_2_0001</td>\n",
       "      <td>default</td>\n",
       "      <td>8899</td>\n",
       "      <td>1.0</td>\n",
       "    </tr>\n",
       "    <tr>\n",
       "      <th>2</th>\n",
       "      <td>ch3oh_w12_2_0001</td>\n",
       "      <td>default</td>\n",
       "      <td>8900</td>\n",
       "      <td>1.0</td>\n",
       "    </tr>\n",
       "    <tr>\n",
       "      <th>3</th>\n",
       "      <td>ch3oh_w12_2_0001</td>\n",
       "      <td>default</td>\n",
       "      <td>8901</td>\n",
       "      <td>-1.0</td>\n",
       "    </tr>\n",
       "    <tr>\n",
       "      <th>4</th>\n",
       "      <td>ch3oh_w12_2_0001</td>\n",
       "      <td>default</td>\n",
       "      <td>8902</td>\n",
       "      <td>-1.0</td>\n",
       "    </tr>\n",
       "    <tr>\n",
       "      <th>...</th>\n",
       "      <td>...</td>\n",
       "      <td>...</td>\n",
       "      <td>...</td>\n",
       "      <td>...</td>\n",
       "    </tr>\n",
       "    <tr>\n",
       "      <th>386</th>\n",
       "      <td>ch3oh_w12_2_0030</td>\n",
       "      <td>ie</td>\n",
       "      <td>9012</td>\n",
       "      <td>-1.0</td>\n",
       "    </tr>\n",
       "    <tr>\n",
       "      <th>387</th>\n",
       "      <td>ch3oh_w12_2_0030</td>\n",
       "      <td>de</td>\n",
       "      <td>8786</td>\n",
       "      <td>1.0</td>\n",
       "    </tr>\n",
       "    <tr>\n",
       "      <th>388</th>\n",
       "      <td>ch3oh_w12_2_0030</td>\n",
       "      <td>de</td>\n",
       "      <td>8768</td>\n",
       "      <td>1.0</td>\n",
       "    </tr>\n",
       "    <tr>\n",
       "      <th>389</th>\n",
       "      <td>ch3oh_w12_2_0030</td>\n",
       "      <td>de</td>\n",
       "      <td>9009</td>\n",
       "      <td>-1.0</td>\n",
       "    </tr>\n",
       "    <tr>\n",
       "      <th>390</th>\n",
       "      <td>ch3oh_w12_2_0030</td>\n",
       "      <td>de</td>\n",
       "      <td>9010</td>\n",
       "      <td>-1.0</td>\n",
       "    </tr>\n",
       "  </tbody>\n",
       "</table>\n",
       "<p>391 rows × 4 columns</p>\n",
       "</div>"
      ],
      "text/plain": [
       "                 name stoichiometry molecule  coefficient\n",
       "0    ch3oh_w12_2_0001       default     8898          1.0\n",
       "1    ch3oh_w12_2_0001       default     8899          1.0\n",
       "2    ch3oh_w12_2_0001       default     8900          1.0\n",
       "3    ch3oh_w12_2_0001       default     8901         -1.0\n",
       "4    ch3oh_w12_2_0001       default     8902         -1.0\n",
       "..                ...           ...      ...          ...\n",
       "386  ch3oh_w12_2_0030            ie     9012         -1.0\n",
       "387  ch3oh_w12_2_0030            de     8786          1.0\n",
       "388  ch3oh_w12_2_0030            de     8768          1.0\n",
       "389  ch3oh_w12_2_0030            de     9009         -1.0\n",
       "390  ch3oh_w12_2_0030            de     9010         -1.0\n",
       "\n",
       "[391 rows x 4 columns]"
      ]
     },
     "execution_count": 60,
     "metadata": {},
     "output_type": "execute_result"
    }
   ],
   "source": [
    "df"
   ]
  },
  {
   "cell_type": "markdown",
   "metadata": {},
   "source": [
    "The binding energy computation program will search for  all unique binding sites on the different water clusters\n",
    "and compute the binding energy for those binding sites. These will be stored in a so called\n",
    "`ReactionDataset` where the BSSE corrected stoichiometry is automatically stored. There is also an option\n",
    "to compute the Hessian matrix  for all binding sites on one water cluster of the users choice. This is \n",
    "necessary in order to construct a model for the ZPVE correction \n",
    "that can be applied to all the binding energies within a model (see 04_Hessian_and_ZPVE). \n",
    "\n",
    "**IMPORTANT**: Before running `launch_energy.py` you need to spin up qcfractal-managers, one with a `tag=comp_be` and a second with a `tag=comp_hessian` (if requested). This module contains two examples of qcfractal-managers running using dask and slurm for this specific purpose. For more examples and options check out  [QCFractal manager documentation ](http://docs.qcarchive.molssi.org/projects/QCFractal/en/stable/managers.html)\n",
    "\n",
    "Form the ReactionDataset you can also retrieve all type of binding sites energy data like\n",
    "interaction energies and deformation energies!  In order to check the computed binding energies \n",
    "you can call each individual water cluster from the server. First we call the client"
   ]
  },
  {
   "cell_type": "code",
   "execution_count": null,
   "metadata": {},
   "outputs": [],
   "source": [
    "client = ptl.FractalClient(address=\"localhost:7777\", verify=False, username='', password='')"
   ]
  },
  {
   "cell_type": "markdown",
   "metadata": {},
   "source": [
    "Then we call the `ReactionDataset`. The naming convention of the collections that store the binding energies\n",
    "is the same as the in the `OptimizationDataset` but with a `be` prefix and the QC method with which the binding site was optimized as a suffix. So in our example we need to call: `be_ch3oh_W12_1_hf3c`:"
   ]
  },
  {
   "cell_type": "code",
   "execution_count": 76,
   "metadata": {},
   "outputs": [],
   "source": [
    "ds_be = client.get_collection(\"ReactionDataset\", 'be_ch3oh_W12_4_hf3c')"
   ]
  },
  {
   "cell_type": "markdown",
   "metadata": {},
   "source": [
    "Now you can print the values of the binding energies with the `get_value()` methods by specifying the required \n",
    "stoichiometry and the QC method for which the binding energy values where computed. The default is a BSSE corrected binding energy:"
   ]
  },
  {
   "cell_type": "code",
   "execution_count": 77,
   "metadata": {},
   "outputs": [
    {
     "name": "stderr",
     "output_type": "stream",
     "text": [
      "/home/svogt/.anaconda/envs/qcfractal/lib/python3.9/site-packages/qcfractal/interface/collections/reaction_dataset.py:103: FutureWarning: Passing a set as an indexer is deprecated and will raise in a future version. Use a list instead.\n",
      "  return ret.reset_index().set_index(\"name\").loc[subset].reset_index().set_index(\"index\")\n",
      "/home/svogt/.anaconda/envs/qcfractal/lib/python3.9/site-packages/qcfractal/interface/collections/dataset.py:1459: FutureWarning: Passing a set as an indexer is deprecated and will raise in a future version. Use a list instead.\n",
      "  return not self.df.loc[subset, column_name].isna().any()\n",
      "/home/svogt/.anaconda/envs/qcfractal/lib/python3.9/site-packages/qcfractal/interface/collections/reaction_dataset.py:346: FutureWarning: Passing a set as an indexer is deprecated and will raise in a future version. Use a list instead.\n",
      "  return self.df.loc[subset, names]\n",
      "/home/svogt/.anaconda/envs/qcfractal/lib/python3.9/site-packages/qcfractal/interface/collections/dataset.py:1534: FutureWarning: Passing a set as an indexer is deprecated and will raise in a future version. Use a list instead.\n",
      "  return self.df.loc[subset, column_names]\n"
     ]
    },
    {
     "data": {
      "text/html": [
       "<div>\n",
       "<style scoped>\n",
       "    .dataframe tbody tr th:only-of-type {\n",
       "        vertical-align: middle;\n",
       "    }\n",
       "\n",
       "    .dataframe tbody tr th {\n",
       "        vertical-align: top;\n",
       "    }\n",
       "\n",
       "    .dataframe thead th {\n",
       "        text-align: right;\n",
       "    }\n",
       "</style>\n",
       "<table border=\"1\" class=\"dataframe\">\n",
       "  <thead>\n",
       "    <tr style=\"text-align: right;\">\n",
       "      <th></th>\n",
       "      <th>B3LYP-D3BJ/def2-svp</th>\n",
       "    </tr>\n",
       "  </thead>\n",
       "  <tbody>\n",
       "    <tr>\n",
       "      <th>ch3oh_w12_4_0027</th>\n",
       "      <td>0.002876</td>\n",
       "    </tr>\n",
       "    <tr>\n",
       "      <th>ch3oh_w12_4_0029</th>\n",
       "      <td>0.006423</td>\n",
       "    </tr>\n",
       "    <tr>\n",
       "      <th>ch3oh_w12_4_0025</th>\n",
       "      <td>-8.440427</td>\n",
       "    </tr>\n",
       "    <tr>\n",
       "      <th>ch3oh_w12_4_0001</th>\n",
       "      <td>-0.102981</td>\n",
       "    </tr>\n",
       "    <tr>\n",
       "      <th>ch3oh_w12_4_0003</th>\n",
       "      <td>0.009344</td>\n",
       "    </tr>\n",
       "    <tr>\n",
       "      <th>ch3oh_w12_4_0005</th>\n",
       "      <td>0.023659</td>\n",
       "    </tr>\n",
       "    <tr>\n",
       "      <th>ch3oh_w12_4_0007</th>\n",
       "      <td>0.013366</td>\n",
       "    </tr>\n",
       "    <tr>\n",
       "      <th>ch3oh_w12_4_0009</th>\n",
       "      <td>-0.013308</td>\n",
       "    </tr>\n",
       "    <tr>\n",
       "      <th>ch3oh_w12_4_0011</th>\n",
       "      <td>-9.414908</td>\n",
       "    </tr>\n",
       "    <tr>\n",
       "      <th>ch3oh_w12_4_0013</th>\n",
       "      <td>-7.046739</td>\n",
       "    </tr>\n",
       "    <tr>\n",
       "      <th>ch3oh_w12_4_0015</th>\n",
       "      <td>0.022982</td>\n",
       "    </tr>\n",
       "    <tr>\n",
       "      <th>ch3oh_w12_4_0017</th>\n",
       "      <td>0.011385</td>\n",
       "    </tr>\n",
       "    <tr>\n",
       "      <th>ch3oh_w12_4_0019</th>\n",
       "      <td>0.006089</td>\n",
       "    </tr>\n",
       "    <tr>\n",
       "      <th>ch3oh_w12_4_0021</th>\n",
       "      <td>-0.011583</td>\n",
       "    </tr>\n",
       "    <tr>\n",
       "      <th>ch3oh_w12_4_0002</th>\n",
       "      <td>-0.009356</td>\n",
       "    </tr>\n",
       "    <tr>\n",
       "      <th>ch3oh_w12_4_0004</th>\n",
       "      <td>-0.016746</td>\n",
       "    </tr>\n",
       "    <tr>\n",
       "      <th>ch3oh_w12_4_0006</th>\n",
       "      <td>-9.756415</td>\n",
       "    </tr>\n",
       "    <tr>\n",
       "      <th>ch3oh_w12_4_0008</th>\n",
       "      <td>0.009555</td>\n",
       "    </tr>\n",
       "    <tr>\n",
       "      <th>ch3oh_w12_4_0010</th>\n",
       "      <td>0.004708</td>\n",
       "    </tr>\n",
       "    <tr>\n",
       "      <th>ch3oh_w12_4_0012</th>\n",
       "      <td>-11.848732</td>\n",
       "    </tr>\n",
       "    <tr>\n",
       "      <th>ch3oh_w12_4_0014</th>\n",
       "      <td>0.031823</td>\n",
       "    </tr>\n",
       "    <tr>\n",
       "      <th>ch3oh_w12_4_0016</th>\n",
       "      <td>-0.015342</td>\n",
       "    </tr>\n",
       "    <tr>\n",
       "      <th>ch3oh_w12_4_0018</th>\n",
       "      <td>0.022742</td>\n",
       "    </tr>\n",
       "    <tr>\n",
       "      <th>ch3oh_w12_4_0020</th>\n",
       "      <td>-0.03105</td>\n",
       "    </tr>\n",
       "    <tr>\n",
       "      <th>ch3oh_w12_4_0022</th>\n",
       "      <td>-10.054513</td>\n",
       "    </tr>\n",
       "    <tr>\n",
       "      <th>ch3oh_w12_4_0030</th>\n",
       "      <td>-0.002436</td>\n",
       "    </tr>\n",
       "    <tr>\n",
       "      <th>ch3oh_w12_4_0023</th>\n",
       "      <td>-0.006618</td>\n",
       "    </tr>\n",
       "    <tr>\n",
       "      <th>ch3oh_w12_4_0024</th>\n",
       "      <td>-14.018639</td>\n",
       "    </tr>\n",
       "    <tr>\n",
       "      <th>ch3oh_w12_4_0026</th>\n",
       "      <td>-0.00564</td>\n",
       "    </tr>\n",
       "    <tr>\n",
       "      <th>ch3oh_w12_4_0028</th>\n",
       "      <td>0.00795</td>\n",
       "    </tr>\n",
       "  </tbody>\n",
       "</table>\n",
       "</div>"
      ],
      "text/plain": [
       "                 B3LYP-D3BJ/def2-svp\n",
       "ch3oh_w12_4_0027            0.002876\n",
       "ch3oh_w12_4_0029            0.006423\n",
       "ch3oh_w12_4_0025           -8.440427\n",
       "ch3oh_w12_4_0001           -0.102981\n",
       "ch3oh_w12_4_0003            0.009344\n",
       "ch3oh_w12_4_0005            0.023659\n",
       "ch3oh_w12_4_0007            0.013366\n",
       "ch3oh_w12_4_0009           -0.013308\n",
       "ch3oh_w12_4_0011           -9.414908\n",
       "ch3oh_w12_4_0013           -7.046739\n",
       "ch3oh_w12_4_0015            0.022982\n",
       "ch3oh_w12_4_0017            0.011385\n",
       "ch3oh_w12_4_0019            0.006089\n",
       "ch3oh_w12_4_0021           -0.011583\n",
       "ch3oh_w12_4_0002           -0.009356\n",
       "ch3oh_w12_4_0004           -0.016746\n",
       "ch3oh_w12_4_0006           -9.756415\n",
       "ch3oh_w12_4_0008            0.009555\n",
       "ch3oh_w12_4_0010            0.004708\n",
       "ch3oh_w12_4_0012          -11.848732\n",
       "ch3oh_w12_4_0014            0.031823\n",
       "ch3oh_w12_4_0016           -0.015342\n",
       "ch3oh_w12_4_0018            0.022742\n",
       "ch3oh_w12_4_0020            -0.03105\n",
       "ch3oh_w12_4_0022          -10.054513\n",
       "ch3oh_w12_4_0030           -0.002436\n",
       "ch3oh_w12_4_0023           -0.006618\n",
       "ch3oh_w12_4_0024          -14.018639\n",
       "ch3oh_w12_4_0026            -0.00564\n",
       "ch3oh_w12_4_0028             0.00795"
      ]
     },
     "execution_count": 77,
     "metadata": {},
     "output_type": "execute_result"
    }
   ],
   "source": [
    "ds_be.get_values(stoich='default',method=\"B3LYP-D3BJ\")"
   ]
  },
  {
   "cell_type": "markdown",
   "metadata": {},
   "source": [
    "However it is also possible to obtain binding energies that are not counterpoise corrected (`stoich=be_nocp`) \n",
    "interaction energies (`stoich=int`) and deformation energies (`stoich=de`)"
   ]
  },
  {
   "cell_type": "markdown",
   "metadata": {},
   "source": [
    "Finally, we recommend to run `launch_energy` in the background as it automatically detects if the binding sites of a  new cluster have been fully optimized and will stop once all the BE computations of all clusters in a given set have been sent. To monitor the progress, a log file is updated in every cycle. "
   ]
  }
 ],
 "metadata": {
  "kernelspec": {
   "display_name": "Python 3 (ipykernel)",
   "language": "python",
   "name": "python3"
  },
  "language_info": {
   "codemirror_mode": {
    "name": "ipython",
    "version": 3
   },
   "file_extension": ".py",
   "mimetype": "text/x-python",
   "name": "python",
   "nbconvert_exporter": "python",
   "pygments_lexer": "ipython3",
   "version": "3.9.7"
  }
 },
 "nbformat": 4,
 "nbformat_minor": 4
}
