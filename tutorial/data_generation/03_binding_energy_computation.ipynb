{
 "cells": [
  {
   "cell_type": "markdown",
   "metadata": {},
   "source": [
    "# 3. Binding energy computation\n",
    "\n",
    "At this point we have already sampled one or more amorphized water clusters that model a ice-grain mantel \n",
    "surface and are ready to compute the binding energy on those binding sites. For that purpose  \n",
    "we use a second CLI tool called `launch_energy.py`  that is contained in the scripts folder. The options for `launch_energy` are the following:"
   ]
  },
  {
   "cell_type": "markdown",
   "metadata": {},
   "source": [
    "```\n",
    "Usage: python launch_energy_new.py [options]\n",
    "\n",
    "A command line interface to compute the binding energy of a set of optimized binding sites\n",
    "on a set of water clusters (stored in a \n",
    "QCFractal DataSet). This CLI is part of the Binding Energy Evaluation Platform (BEEP).\n",
    "\n",
    "\n",
    "Options:\n",
    "  -h, --help            show this help message and exit\n",
    "  --cluster_collection=CLUSTER_COLLECTION\n",
    "                        The name of the collection with the water clusters\n",
    "                        (default: Water_22)\n",
    "  --small_mol_collection=SMALL_MOLECULE_COLLECTION\n",
    "                        The name of the collection with small molecules or\n",
    "                        radicals (default: Small_molecules)\n",
    "  --molecule=MOLECULE   The name of the molecule for the binding energy\n",
    "                        computation\n",
    "  --level_of_theory=LEVEL_OF_THEORY\n",
    "                        The level of theory for the binding energy computation\n",
    "                        in the format: method_basis (default:\n",
    "                        wpbe-d3bj_def2-tzvp)\n",
    "  --opt_level_of_theory=OPT_LOT\n",
    "                        The level of theory of for the optimization of the\n",
    "                        binding sites in the format: method_basis (default:\n",
    "                        hf3c_minix)\n",
    "  --keyword_id=KEYWORD_ID\n",
    "                        ID of the QCfractal for the single point computations\n",
    "                        keywords (default: None)\n",
    "  --hessian_compute=HESSIAN\n",
    "                        Computes the hessian for the molecules comprising the\n",
    "                        binding sites of model cluster X. If 0 is specified,\n",
    "                        no Hessian is computed (defualt = 1)\n",
    "  -p PROGRAM, --program=PROGRAM\n",
    "                        The program to use for this calculation (default:\n",
    "                        psi4)\n",
    "```"
   ]
  },
  {
   "cell_type": "markdown",
   "metadata": {},
   "source": [
    "Here it is important to note that you have to specify both the level of theory at \n",
    "which you would like to do the binding energy computation and also the level \n",
    "of theory at which you optimized the different binding sites. What the program will do is \n",
    "search for all the water clusters with all unique binding sites \n",
    "optimized and compute the binding energy for those binding sites. These will be stored in a so called\n",
    "`ReactionDataset` where the BSSE corrected stoichiometry is automatically stored. There is also an option\n",
    "to compute the Hessian matrix  for all binding sites on one water cluster of the users choice. This is \n",
    "necessary in order to construct a model for the ZPVE correction \n",
    "that can be applied to all the binding energies within a model (see 04_ZPVE_correction_and_BE_distribution). \n",
    "\n",
    "**IMPORTANT**: Before running `launch_energy.py` you need to spin up qcfractal-managers, one with a `tag=comp_be` and a second with a `tag=comp_hessian` (if requested). This module contains two examples of qcfractal-managers running using dask and slurm for this specific purpose. For more examples and options check out  [QCFractal manager documentation ](http://docs.qcarchive.molssi.org/projects/QCFractal/en/stable/managers.html)\n",
    "\n",
    "Form the ReactionDataset you can also retrieve all type of binding sites energy data like\n",
    "interaction energies and deformation energies!  In order to check the computed binding energies \n",
    "you can call each individual  water cluster from the server. First we call the client"
   ]
  },
  {
   "cell_type": "code",
   "execution_count": null,
   "metadata": {},
   "outputs": [],
   "source": [
    "client = ptl.FractalClient(address=\"localhost:7777\", verify=False, username='', password='')"
   ]
  },
  {
   "cell_type": "markdown",
   "metadata": {},
   "source": [
    "Then we call the `ReactionDataset`. The naming convention of the collections that store the binding energies\n",
    "is the same as the in the `OptimizationDataset` but with a `be` prefix and the QC method with which the binding site was optimized as a suffix. So in our example we need to call: `be_ch3oh_W12_1_hf3c`:"
   ]
  },
  {
   "cell_type": "code",
   "execution_count": null,
   "metadata": {},
   "outputs": [],
   "source": [
    "ds_be = client.get_collection(\"ReactionDataset\", 'be_ch3oh_W12_1_hf3c')"
   ]
  },
  {
   "cell_type": "markdown",
   "metadata": {},
   "source": [
    "Now you can print the values of the binding energies with the `get_value()` methods by specifying the required \n",
    "stoichiometry and the QC method for which the binding energy values where computed. The default is a BSSE corrected binding energy:"
   ]
  },
  {
   "cell_type": "code",
   "execution_count": null,
   "metadata": {},
   "outputs": [],
   "source": [
    "val = ds_be.get_values(stoich='default',method=methods)"
   ]
  },
  {
   "cell_type": "markdown",
   "metadata": {},
   "source": [
    "However it is also possible to obtain binding energies that are not counterpoise corrected (`stoich=be_nocp`) \n",
    "interaction energies (`stoich=int`) and deformation energies (`stoich=de`)"
   ]
  },
  {
   "cell_type": "markdown",
   "metadata": {},
   "source": [
    "Finally, we recommend to run `launch_energy` in the background as it automatically detects if the binding sites of a  new cluster have been fully optimized and will stop once all the BE computations of all clusters in a given set have been sent. To monitor the progress, a log file is updated in every cycle. "
   ]
  }
 ],
 "metadata": {
  "kernelspec": {
   "display_name": "Python 3",
   "language": "python",
   "name": "python3"
  },
  "language_info": {
   "codemirror_mode": {
    "name": "ipython",
    "version": 3
   },
   "file_extension": ".py",
   "mimetype": "text/x-python",
   "name": "python",
   "nbconvert_exporter": "python",
   "pygments_lexer": "ipython3",
   "version": "3.7.4"
  }
 },
 "nbformat": 4,
 "nbformat_minor": 4
}
