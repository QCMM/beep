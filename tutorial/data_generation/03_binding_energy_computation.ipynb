{
 "cells": [
  {
   "cell_type": "markdown",
   "metadata": {},
   "source": [
    "# 3. Binding energy computation\n",
    "\n",
    "At this point we have already sampled one or more amorphized water clusters that model a ice-grain mantel \n",
    "surface and are ready to compute the binding energy on those binding sites. For that purpose  \n",
    "we use a second CLI tool called `launch_energy.py`  that is contained in the scripts folder. The options for `launch_energy` are the following:"
   ]
  },
  {
   "cell_type": "markdown",
   "metadata": {},
   "source": [
    "```\n",
    "Usage: python launch_energy_new.py [options]\n",
    "\n",
    "A command line interface to compute the binding energy of a set of optimized binding sites\n",
    "on a set of water clusters (stored in a \n",
    "QCFractal DataSet). This CLI is part of the Binding Energy Evaluation Platform (BEEP).\n",
    "\n",
    "\n",
    "Options:\n",
    "  -h, --help            show this help message and exit\n",
    "  --cluster_collection=CLUSTER_COLLECTION\n",
    "                        The name of the collection with the water clusters\n",
    "                        (default: Water_22)\n",
    "  --small_mol_collection=SMALL_MOLECULE_COLLECTION\n",
    "                        The name of the collection with small molecules or\n",
    "                        radicals (default: Small_molecules)\n",
    "  --molecule=MOLECULE   The name of the molecule for the binding energy\n",
    "                        computation\n",
    "  --level_of_theory=LEVEL_OF_THEORY\n",
    "                        The level of theory for the binding energy computation\n",
    "                        in the format: method_basis (default:\n",
    "                        wpbe-d3bj_def2-tzvp)\n",
    "  --opt_level_of_theory=OPT_LOT\n",
    "                        The level of theory of for the optimization of the\n",
    "                        binding sites in the format: method_basis (default:\n",
    "                        hf3c_minix)\n",
    "  --keyword_id=KEYWORD_ID\n",
    "                        ID of the QCfractal for the single point computations\n",
    "                        keywords (default: None)\n",
    "  --hessian_compute=HESSIAN\n",
    "                        Computes the hessian for the molecules comprising the\n",
    "                        binding sites of model cluster X. If 0 is specified,\n",
    "                        no Hessian is computed (defualt = 1)\n",
    "  -p PROGRAM, --program=PROGRAM\n",
    "                        The program to use for this calculation (default:\n",
    "                        psi4)\n",
    "```"
   ]
  },
  {
   "cell_type": "markdown",
   "metadata": {},
   "source": [
    "Here it is important to note that you have to specify both the level of theory at  which you would like to do the binding energy computation and also the level of theory at which you optimized the different binding sites. Also note that the isolated  monomers have to be optimized at the same level of theory as the supermolecule. For example if  you want to compute the binding energy for binding sites optimized at a HF-3C/MINIX level of theory, the geometry of the  isolated water clusters and target molecules need to exist at that level of theory, in our  example we can compute them  for the water_12 set of clusters and the small molecule collection:\n",
    "\n",
    "\n",
    "\n",
    "\n"
   ]
  },
  {
   "cell_type": "code",
   "execution_count": 11,
   "metadata": {},
   "outputs": [],
   "source": [
    "import qcfractal.interface as ptl\n",
    "\n",
    "client = ptl.FractalClient(address=\"localhost:7777\", verify=False)"
   ]
  },
  {
   "cell_type": "code",
   "execution_count": 5,
   "metadata": {},
   "outputs": [],
   "source": [
    "ds_w12 = client.get_collection(\"OptimizationDataset\", \"water_12\")\n",
    "ds_sm = client.get_collection(\"OptimizationDataset\", \"small_molecules\")"
   ]
  },
  {
   "cell_type": "code",
   "execution_count": 6,
   "metadata": {},
   "outputs": [
    {
     "data": {
      "text/plain": [
       "'72'"
      ]
     },
     "execution_count": 6,
     "metadata": {},
     "output_type": "execute_result"
    }
   ],
   "source": [
    "spec = add_spec = {'name': 'hf3c_minix',\n",
    "        'description': 'Geometric + Psi4/hf3c/minix.',\n",
    "        'optimization_spec': {'program': 'geometric', 'keywords': None},\n",
    "        'qc_spec': {'driver': 'gradient',\n",
    "        'method': 'hf3c',\n",
    "        'basis': 'minix',\n",
    "        'keywords': None,\n",
    "        'program': 'psi4'}}\n",
    "ds_w12.add_specification(**add_spec,overwrite=True)\n",
    "ds_w12.save()\n",
    "ds_sm.add_specification(**add_spec,overwrite=True)\n",
    "ds_sm.save()"
   ]
  },
  {
   "cell_type": "code",
   "execution_count": 5,
   "metadata": {},
   "outputs": [
    {
     "data": {
      "text/plain": [
       "1"
      ]
     },
     "execution_count": 5,
     "metadata": {},
     "output_type": "execute_result"
    }
   ],
   "source": [
    "ds_sm.compute('hf3c_minix', tag='basic')"
   ]
  },
  {
   "cell_type": "code",
   "execution_count": 7,
   "metadata": {},
   "outputs": [
    {
     "data": {
      "text/plain": [
       "5"
      ]
     },
     "execution_count": 7,
     "metadata": {},
     "output_type": "execute_result"
    }
   ],
   "source": [
    "ds_w12.compute('hf3c_minix', tag='basic')"
   ]
  },
  {
   "cell_type": "markdown",
   "metadata": {},
   "source": [
    "The binding energy computation program will search for  all unique binding sites on the different water clusters\n",
    "and compute the binding energy for those binding sites. These will be stored in a so called\n",
    "`ReactionDataset` where the BSSE corrected stoichiometry is automatically stored. There is also an option\n",
    "to compute the Hessian matrix  for all binding sites on one water cluster of the users choice. This is \n",
    "necessary in order to construct a model for the ZPVE correction \n",
    "that can be applied to all the binding energies within a model (see 04_Hessian_and_ZPVE). \n",
    "\n",
    "**IMPORTANT**: Before running `launch_energy.py` you need to spin up qcfractal-managers, one with a `tag=comp_be` and a second with a `tag=comp_hessian` (if requested). This module contains two examples of qcfractal-managers running using dask and slurm for this specific purpose. For more examples and options check out  [QCFractal manager documentation ](http://docs.qcarchive.molssi.org/projects/QCFractal/en/stable/managers.html)\n",
    "\n",
    "Form the ReactionDataset you can also retrieve all type of binding sites energy data like\n",
    "interaction energies and deformation energies!  In order to check the computed binding energies \n",
    "you can call each individual water cluster from the server. First we call the client"
   ]
  },
  {
   "cell_type": "markdown",
   "metadata": {},
   "source": [
    "Then we call the `ReactionDataset`. The naming convention of the collections that store the binding energies\n",
    "is the same as the in the `OptimizationDataset` but with a `be` prefix and the QC method with which the binding site was optimized as a suffix. So in our example we need to call: `be_ch3oh_W12_1_hf3c`:"
   ]
  },
  {
   "cell_type": "code",
   "execution_count": 15,
   "metadata": {},
   "outputs": [],
   "source": [
    "ds_be = client.get_collection(\"ReactionDataset\", 'be_ch3oh_W12_3_hf3c')"
   ]
  },
  {
   "cell_type": "markdown",
   "metadata": {},
   "source": [
    "Now you can print the values of the binding energies with the `get_value()` methods by specifying the required \n",
    "stoichiometry and the QC method for which the binding energy values where computed. The default is a BSSE corrected binding energy:"
   ]
  },
  {
   "cell_type": "code",
   "execution_count": 16,
   "metadata": {},
   "outputs": [
    {
     "data": {
      "text/html": [
       "<div>\n",
       "<style scoped>\n",
       "    .dataframe tbody tr th:only-of-type {\n",
       "        vertical-align: middle;\n",
       "    }\n",
       "\n",
       "    .dataframe tbody tr th {\n",
       "        vertical-align: top;\n",
       "    }\n",
       "\n",
       "    .dataframe thead th {\n",
       "        text-align: right;\n",
       "    }\n",
       "</style>\n",
       "<table border=\"1\" class=\"dataframe\">\n",
       "  <thead>\n",
       "    <tr style=\"text-align: right;\">\n",
       "      <th></th>\n",
       "      <th>B3LYP-D3BJ/def2-svp</th>\n",
       "      <th>B3LYP-D3BJ/def2-tzvp</th>\n",
       "    </tr>\n",
       "  </thead>\n",
       "  <tbody>\n",
       "    <tr>\n",
       "      <th>ch3oh_w12_3_0001</th>\n",
       "      <td>-9.62136</td>\n",
       "      <td>-8.907313</td>\n",
       "    </tr>\n",
       "    <tr>\n",
       "      <th>ch3oh_w12_3_0002</th>\n",
       "      <td>-11.302769</td>\n",
       "      <td>-10.245449</td>\n",
       "    </tr>\n",
       "    <tr>\n",
       "      <th>ch3oh_w12_3_0003</th>\n",
       "      <td>-7.414099</td>\n",
       "      <td>-9.917144</td>\n",
       "    </tr>\n",
       "    <tr>\n",
       "      <th>ch3oh_w12_3_0006</th>\n",
       "      <td>-9.349479</td>\n",
       "      <td>-8.737617</td>\n",
       "    </tr>\n",
       "    <tr>\n",
       "      <th>ch3oh_w12_3_0008</th>\n",
       "      <td>-12.255689</td>\n",
       "      <td>-10.927993</td>\n",
       "    </tr>\n",
       "    <tr>\n",
       "      <th>ch3oh_w12_3_0012</th>\n",
       "      <td>-11.550165</td>\n",
       "      <td>-10.799472</td>\n",
       "    </tr>\n",
       "    <tr>\n",
       "      <th>ch3oh_w12_3_0016</th>\n",
       "      <td>-9.863477</td>\n",
       "      <td>-11.379328</td>\n",
       "    </tr>\n",
       "    <tr>\n",
       "      <th>ch3oh_w12_3_0021</th>\n",
       "      <td>-8.580385</td>\n",
       "      <td>-8.00788</td>\n",
       "    </tr>\n",
       "    <tr>\n",
       "      <th>ch3oh_w12_3_0023</th>\n",
       "      <td>-8.679396</td>\n",
       "      <td>-8.113023</td>\n",
       "    </tr>\n",
       "    <tr>\n",
       "      <th>ch3oh_w12_3_0028</th>\n",
       "      <td>-7.958984</td>\n",
       "      <td>-6.923595</td>\n",
       "    </tr>\n",
       "    <tr>\n",
       "      <th>ch3oh_w12_3_0018</th>\n",
       "      <td>-7.711691</td>\n",
       "      <td>-10.35578</td>\n",
       "    </tr>\n",
       "    <tr>\n",
       "      <th>ch3oh_w12_3_0017</th>\n",
       "      <td>-9.871816</td>\n",
       "      <td>-8.940623</td>\n",
       "    </tr>\n",
       "    <tr>\n",
       "      <th>ch3oh_w12_3_0019</th>\n",
       "      <td>-12.344352</td>\n",
       "      <td>-10.901354</td>\n",
       "    </tr>\n",
       "    <tr>\n",
       "      <th>ch3oh_w12_3_0027</th>\n",
       "      <td>-9.62391</td>\n",
       "      <td>-8.782594</td>\n",
       "    </tr>\n",
       "    <tr>\n",
       "      <th>ch3oh_w12_3_0030</th>\n",
       "      <td>-9.41339</td>\n",
       "      <td>-8.95206</td>\n",
       "    </tr>\n",
       "    <tr>\n",
       "      <th>ch3oh_w12_3_0004</th>\n",
       "      <td>-9.399676</td>\n",
       "      <td>-8.763173</td>\n",
       "    </tr>\n",
       "    <tr>\n",
       "      <th>ch3oh_w12_3_0022</th>\n",
       "      <td>-9.394713</td>\n",
       "      <td>-9.120635</td>\n",
       "    </tr>\n",
       "    <tr>\n",
       "      <th>ch3oh_w12_3_0007</th>\n",
       "      <td>-6.958596</td>\n",
       "      <td>-6.305253</td>\n",
       "    </tr>\n",
       "    <tr>\n",
       "      <th>ch3oh_w12_3_0010</th>\n",
       "      <td>-9.819096</td>\n",
       "      <td>-8.923958</td>\n",
       "    </tr>\n",
       "    <tr>\n",
       "      <th>ch3oh_w12_3_0014</th>\n",
       "      <td>-6.674613</td>\n",
       "      <td>-8.889475</td>\n",
       "    </tr>\n",
       "  </tbody>\n",
       "</table>\n",
       "</div>"
      ],
      "text/plain": [
       "                 B3LYP-D3BJ/def2-svp B3LYP-D3BJ/def2-tzvp\n",
       "ch3oh_w12_3_0001            -9.62136            -8.907313\n",
       "ch3oh_w12_3_0002          -11.302769           -10.245449\n",
       "ch3oh_w12_3_0003           -7.414099            -9.917144\n",
       "ch3oh_w12_3_0006           -9.349479            -8.737617\n",
       "ch3oh_w12_3_0008          -12.255689           -10.927993\n",
       "ch3oh_w12_3_0012          -11.550165           -10.799472\n",
       "ch3oh_w12_3_0016           -9.863477           -11.379328\n",
       "ch3oh_w12_3_0021           -8.580385             -8.00788\n",
       "ch3oh_w12_3_0023           -8.679396            -8.113023\n",
       "ch3oh_w12_3_0028           -7.958984            -6.923595\n",
       "ch3oh_w12_3_0018           -7.711691            -10.35578\n",
       "ch3oh_w12_3_0017           -9.871816            -8.940623\n",
       "ch3oh_w12_3_0019          -12.344352           -10.901354\n",
       "ch3oh_w12_3_0027            -9.62391            -8.782594\n",
       "ch3oh_w12_3_0030            -9.41339             -8.95206\n",
       "ch3oh_w12_3_0004           -9.399676            -8.763173\n",
       "ch3oh_w12_3_0022           -9.394713            -9.120635\n",
       "ch3oh_w12_3_0007           -6.958596            -6.305253\n",
       "ch3oh_w12_3_0010           -9.819096            -8.923958\n",
       "ch3oh_w12_3_0014           -6.674613            -8.889475"
      ]
     },
     "execution_count": 16,
     "metadata": {},
     "output_type": "execute_result"
    }
   ],
   "source": [
    "ds_be.get_values(stoich='default',method=\"B3LYP-D3BJ\")"
   ]
  },
  {
   "cell_type": "markdown",
   "metadata": {},
   "source": [
    "However it is also possible to obtain binding energies that are not counterpoise corrected (`stoich=be_nocp`) \n",
    "interaction energies (`stoich=int`) and deformation energies (`stoich=de`)"
   ]
  },
  {
   "cell_type": "markdown",
   "metadata": {},
   "source": [
    "Finally, we recommend to run `launch_energy` in the background as it automatically detects if the binding sites of a  new cluster have been fully optimized and will stop once all the BE computations of all clusters in a given set have been sent. To monitor the progress, a log file is updated in every cycle. "
   ]
  }
 ],
 "metadata": {
  "kernelspec": {
   "display_name": "Python 3 (ipykernel)",
   "language": "python",
   "name": "python3"
  },
  "language_info": {
   "codemirror_mode": {
    "name": "ipython",
    "version": 3
   },
   "file_extension": ".py",
   "mimetype": "text/x-python",
   "name": "python",
   "nbconvert_exporter": "python",
   "pygments_lexer": "ipython3",
   "version": "3.9.7"
  }
 },
 "nbformat": 4,
 "nbformat_minor": 4
}
